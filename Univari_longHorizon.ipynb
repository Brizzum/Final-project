{
 "cells": [
  {
   "cell_type": "code",
   "execution_count": 30,
   "metadata": {},
   "outputs": [],
   "source": [
    "import numpy as np\n",
    "import pandas as pd\n",
    "import matplotlib.pyplot as plt\n",
    "import datetime\n",
    "import seaborn as sns\n",
    "\n",
    "plt.rcParams['mathtext.fontset'] = 'stix'\n",
    "plt.rcParams['font.family'] = 'STIXGeneral'"
   ]
  },
  {
   "cell_type": "code",
   "execution_count": 31,
   "metadata": {},
   "outputs": [],
   "source": [
    "import tensorflow as tf\n",
    "from tensorflow.keras.models import Sequential\n",
    "from tensorflow.keras.layers import Dense\n",
    "import tensorflow.keras.backend as K\n",
    "# Use Tensorboard for network visualization & debugging\n",
    "from tensorflow.keras.callbacks import TensorBoard\n",
    "import sklearn.metrics\n",
    "# import regularizer(s)\n",
    "from tensorflow.keras.regularizers import l1, l2, l1_l2\n",
    "# import Dropout\n",
    "from tensorflow.keras.layers import Dropout\n",
    "# import activation seperately\n",
    "from tensorflow.keras.layers import Activation"
   ]
  },
  {
   "cell_type": "code",
   "execution_count": 32,
   "metadata": {},
   "outputs": [],
   "source": [
    "import warnings\n",
    "\n",
    "#ignore future warnings\n",
    "warnings.simplefilter(action='ignore', category=FutureWarning)"
   ]
  },
  {
   "cell_type": "code",
   "execution_count": 33,
   "metadata": {},
   "outputs": [
    {
     "data": {
      "text/plain": [
       "count    37043.000000\n",
       "mean       199.218650\n",
       "std        215.220716\n",
       "min          1.052640\n",
       "25%         49.857800\n",
       "50%        112.711000\n",
       "75%        259.903500\n",
       "max        867.900000\n",
       "Name: ActPow, dtype: float64"
      ]
     },
     "execution_count": 33,
     "metadata": {},
     "output_type": "execute_result"
    }
   ],
   "source": [
    "V52_data = pd.read_csv('V52_data_process.csv')\n",
    "# make Date the index in datetime format\n",
    "V52_data.index = pd.to_datetime(V52_data['Date'], format='%Y%m%d%H%M')\n",
    "\n",
    "data_AS03 = pd.read_csv('WindData_AS03.csv')\n",
    "# make Date the index in datetime format\n",
    "data_AS03.index = pd.to_datetime(data_AS03['date_time'], format='%Y-%m-%d %H:%M:%S')\n",
    "\n",
    "V52_data['ActPow'].describe()"
   ]
  },
  {
   "cell_type": "markdown",
   "metadata": {},
   "source": [
    "## With a continous data set we can begin a LSTM model"
   ]
  },
  {
   "cell_type": "markdown",
   "metadata": {},
   "source": [
    "## Additional info on the time series processing - things to watch out!\n",
    "1. **Non-stationary data** \n",
    "<br>‘Stationarity’ is one of the most important concepts you will come across when working with time series data. A stationary series is one in which the properties – mean, variance and covariance, **do not** vary with time.\n",
    "<br>  Always keep in mind that in order to use time series forecasting models, it is necessary to convert any non-stationary series to a stationary series first. There are mainly two ways to do this:\n",
    "     <br> 1.1 ***Differencing (one or multiple steps)***   $\\rightarrow y_{diff}=y_{t}-y_{t-n} $ Pandas diff can directly be used or you can use df.shift(n) to extract $y_{t-n}$ \n",
    "     <br> 1.2 ***Axis transformations*** $\\rightarrow$ e.g. log-transform can also help depending on your data. Also note that you can repeat the differencing several times until you reach the 'desired' stationarity.\n",
    "2. **Scaling**\n",
    "<br>As discussed (and demonstrated) above.\n",
    "3. **LSTM particular input shape**\n",
    "<br> Think thorough on samples, timesteps, features and what they represent for your data and problem at hand. In general, it goes as \"how many features you would like to feed into the model at a time (timesteps) and how many of those sequences do you have? Let's do an example for our forecasting problem at hand...\n",
    "3. **Inverse transform the output**\n",
    "<br> Different than 'just' a binary classification, the output of your model might have units and non-stationary structure as well. Remember to inverse transform of your model predictions to deliver the 'true value' of your outputs."
   ]
  },
  {
   "cell_type": "markdown",
   "metadata": {},
   "source": [
    "## Divide Time series into Sequences\n",
    "We will define 2 useful functions that will generate sequences of input + output intervals.\n",
    "\n",
    "* The input interval is based on how much further back you would like to add to the memory\n",
    "* The output interval depends on the forecast horizon for your problem\n",
    "\n",
    "\n",
    "The input interval is one of the *hyperparameters* to tune. We can start with an initial guess and adjust it to see if we can get a performance increase."
   ]
  },
  {
   "cell_type": "code",
   "execution_count": 34,
   "metadata": {},
   "outputs": [],
   "source": [
    "### define a function that will prepare the shifting input sequences for the network\n",
    "def forecast_sequences_input(input_data, n_lag):\n",
    "    \"\"\"\n",
    "    A function that will split the input time series to sequences for nowcast/forecast problems\n",
    "    Arguments:\n",
    "        input_data: Time series of input observations as a list, NumPy array or pandas series\n",
    "        n_lag: number of previous time steps to use for training, a.k.a. time-lag        \n",
    "    Returns:\n",
    "        Pandas DataFrame of series framed for supervised learning.\n",
    "    \"\"\"\n",
    "    n_vars = input_data.shape[1] \n",
    "    df = pd.DataFrame(input_data)\n",
    "    cols, names = list(), list()\n",
    "    # input sequence (t-n, ... t-1)\n",
    "    for i in range(n_lag, 0, -1):\n",
    "        cols.append(df.shift(i))\n",
    "        names += [('var%d(t-%d)' % (j+1, i)) for j in range(n_vars)]\n",
    "    # put it all together (aggregate)\n",
    "    agg = pd.concat(cols, axis=1)\n",
    "    agg.columns = names\n",
    "    return agg\n",
    "\n",
    "\n",
    "### define a function that will prepare the shifting output sequences of the network\n",
    "def forecast_sequences_output(output_data,n_out):\n",
    "    \"\"\"\n",
    "    A function that will split the output time series to sequences for nowcast/forecast problems\n",
    "    Arguments:\n",
    "        output_data: Time series of input observations as a list, NumPy array or pandas series\n",
    "        n_out: forecast horizon (for multi-output forecast)\n",
    "    Returns:\n",
    "        Pandas DataFrame of series framed for supervised learning.\n",
    "    \"\"\"\n",
    "    n_vars = output_data.shape[1] \n",
    "    df = pd.DataFrame(output_data)\n",
    "    cols, names = list(), list()\n",
    "    # forecast sequence (t, t+1, ... t+n)\n",
    "    for i in range(0, n_out):\n",
    "        cols.append(df.shift(-i))\n",
    "        if i == 0:\n",
    "            names += [('var%d(t)' % (j+1)) for j in range(n_vars)]\n",
    "        else:\n",
    "            names += [('var%d(t+%d)' % (j+1, i)) for j in range(n_vars)]\n",
    "    # put it all together (aggregate)\n",
    "    agg = pd.concat(cols, axis=1)\n",
    "    agg.columns = names    \n",
    "    return agg\n"
   ]
  },
  {
   "cell_type": "markdown",
   "metadata": {},
   "source": [
    "### Define length of the input and output intervals within the sequences"
   ]
  },
  {
   "cell_type": "code",
   "execution_count": 35,
   "metadata": {},
   "outputs": [],
   "source": [
    "n_lag = 36 # number of previous time steps to use for training, a.k.a. time-lag\n",
    "n_out = 6  # forecast hoizon: number of next time steps we will predict 1 = the next 10-min mean"
   ]
  },
  {
   "cell_type": "markdown",
   "metadata": {},
   "source": [
    "### Define training, validation and test data as before, let's use dataframes this time\n",
    "INPUTS:   \n",
    "   1. Power\n",
    "   2. std of power\n",
    "\n",
    "OUTPUT:\n",
    "   1. future power \n"
   ]
  },
  {
   "cell_type": "markdown",
   "metadata": {},
   "source": [
    "Sequence creation"
   ]
  },
  {
   "cell_type": "code",
   "execution_count": 36,
   "metadata": {},
   "outputs": [],
   "source": [
    "### Split data into train & test \n",
    "train_int = int(0.6*len(V52_data))      # 60% of the data length for training\n",
    "validation_int = int(0.8*len(V52_data)) # 20% more for validation\n",
    "\n",
    "# training input vector\n",
    "X_train = V52_data[['ActPow']][:train_int]\n",
    "X_train = forecast_sequences_input(X_train ,n_lag)\n",
    "\n",
    "# training output vector\n",
    "Y_train = V52_data[['ActPow']][:train_int]\n",
    "Y_train = forecast_sequences_output(Y_train, n_out)\n",
    "\n",
    "# validation input vector\n",
    "X_validation = V52_data[['ActPow']][train_int:validation_int]\n",
    "X_validation = forecast_sequences_input(X_validation,n_lag)\n",
    "\n",
    "# validation output vector\n",
    "Y_validation = V52_data[['ActPow']][train_int:validation_int]\n",
    "Y_validation = forecast_sequences_output(Y_validation, n_out)\n",
    "\n",
    "# test input vector\n",
    "X_test = V52_data[['ActPow']][validation_int:]\n",
    "X_test = forecast_sequences_input(X_test,n_lag)\n",
    "\n",
    "# test output vector\n",
    "Y_test = V52_data[['ActPow']][validation_int:]\n",
    "Y_test = forecast_sequences_output(Y_test, n_out)"
   ]
  },
  {
   "cell_type": "code",
   "execution_count": 37,
   "metadata": {},
   "outputs": [
    {
     "data": {
      "text/html": [
       "<div>\n",
       "<style scoped>\n",
       "    .dataframe tbody tr th:only-of-type {\n",
       "        vertical-align: middle;\n",
       "    }\n",
       "\n",
       "    .dataframe tbody tr th {\n",
       "        vertical-align: top;\n",
       "    }\n",
       "\n",
       "    .dataframe thead th {\n",
       "        text-align: right;\n",
       "    }\n",
       "</style>\n",
       "<table border=\"1\" class=\"dataframe\">\n",
       "  <thead>\n",
       "    <tr style=\"text-align: right;\">\n",
       "      <th></th>\n",
       "      <th>var1(t-36)</th>\n",
       "      <th>var1(t-35)</th>\n",
       "      <th>var1(t-34)</th>\n",
       "      <th>var1(t-33)</th>\n",
       "      <th>var1(t-32)</th>\n",
       "      <th>var1(t-31)</th>\n",
       "      <th>var1(t-30)</th>\n",
       "      <th>var1(t-29)</th>\n",
       "      <th>var1(t-28)</th>\n",
       "      <th>var1(t-27)</th>\n",
       "      <th>...</th>\n",
       "      <th>var1(t-10)</th>\n",
       "      <th>var1(t-9)</th>\n",
       "      <th>var1(t-8)</th>\n",
       "      <th>var1(t-7)</th>\n",
       "      <th>var1(t-6)</th>\n",
       "      <th>var1(t-5)</th>\n",
       "      <th>var1(t-4)</th>\n",
       "      <th>var1(t-3)</th>\n",
       "      <th>var1(t-2)</th>\n",
       "      <th>var1(t-1)</th>\n",
       "    </tr>\n",
       "    <tr>\n",
       "      <th>Date</th>\n",
       "      <th></th>\n",
       "      <th></th>\n",
       "      <th></th>\n",
       "      <th></th>\n",
       "      <th></th>\n",
       "      <th></th>\n",
       "      <th></th>\n",
       "      <th></th>\n",
       "      <th></th>\n",
       "      <th></th>\n",
       "      <th></th>\n",
       "      <th></th>\n",
       "      <th></th>\n",
       "      <th></th>\n",
       "      <th></th>\n",
       "      <th></th>\n",
       "      <th></th>\n",
       "      <th></th>\n",
       "      <th></th>\n",
       "      <th></th>\n",
       "      <th></th>\n",
       "    </tr>\n",
       "  </thead>\n",
       "  <tbody>\n",
       "    <tr>\n",
       "      <th>2018-01-01 00:00:00</th>\n",
       "      <td>NaN</td>\n",
       "      <td>NaN</td>\n",
       "      <td>NaN</td>\n",
       "      <td>NaN</td>\n",
       "      <td>NaN</td>\n",
       "      <td>NaN</td>\n",
       "      <td>NaN</td>\n",
       "      <td>NaN</td>\n",
       "      <td>NaN</td>\n",
       "      <td>NaN</td>\n",
       "      <td>...</td>\n",
       "      <td>NaN</td>\n",
       "      <td>NaN</td>\n",
       "      <td>NaN</td>\n",
       "      <td>NaN</td>\n",
       "      <td>NaN</td>\n",
       "      <td>NaN</td>\n",
       "      <td>NaN</td>\n",
       "      <td>NaN</td>\n",
       "      <td>NaN</td>\n",
       "      <td>NaN</td>\n",
       "    </tr>\n",
       "    <tr>\n",
       "      <th>2018-01-01 00:10:00</th>\n",
       "      <td>NaN</td>\n",
       "      <td>NaN</td>\n",
       "      <td>NaN</td>\n",
       "      <td>NaN</td>\n",
       "      <td>NaN</td>\n",
       "      <td>NaN</td>\n",
       "      <td>NaN</td>\n",
       "      <td>NaN</td>\n",
       "      <td>NaN</td>\n",
       "      <td>NaN</td>\n",
       "      <td>...</td>\n",
       "      <td>NaN</td>\n",
       "      <td>NaN</td>\n",
       "      <td>NaN</td>\n",
       "      <td>NaN</td>\n",
       "      <td>NaN</td>\n",
       "      <td>NaN</td>\n",
       "      <td>NaN</td>\n",
       "      <td>NaN</td>\n",
       "      <td>NaN</td>\n",
       "      <td>64.6673</td>\n",
       "    </tr>\n",
       "    <tr>\n",
       "      <th>2018-01-01 00:20:00</th>\n",
       "      <td>NaN</td>\n",
       "      <td>NaN</td>\n",
       "      <td>NaN</td>\n",
       "      <td>NaN</td>\n",
       "      <td>NaN</td>\n",
       "      <td>NaN</td>\n",
       "      <td>NaN</td>\n",
       "      <td>NaN</td>\n",
       "      <td>NaN</td>\n",
       "      <td>NaN</td>\n",
       "      <td>...</td>\n",
       "      <td>NaN</td>\n",
       "      <td>NaN</td>\n",
       "      <td>NaN</td>\n",
       "      <td>NaN</td>\n",
       "      <td>NaN</td>\n",
       "      <td>NaN</td>\n",
       "      <td>NaN</td>\n",
       "      <td>NaN</td>\n",
       "      <td>64.6673</td>\n",
       "      <td>70.8152</td>\n",
       "    </tr>\n",
       "    <tr>\n",
       "      <th>2018-01-01 00:30:00</th>\n",
       "      <td>NaN</td>\n",
       "      <td>NaN</td>\n",
       "      <td>NaN</td>\n",
       "      <td>NaN</td>\n",
       "      <td>NaN</td>\n",
       "      <td>NaN</td>\n",
       "      <td>NaN</td>\n",
       "      <td>NaN</td>\n",
       "      <td>NaN</td>\n",
       "      <td>NaN</td>\n",
       "      <td>...</td>\n",
       "      <td>NaN</td>\n",
       "      <td>NaN</td>\n",
       "      <td>NaN</td>\n",
       "      <td>NaN</td>\n",
       "      <td>NaN</td>\n",
       "      <td>NaN</td>\n",
       "      <td>NaN</td>\n",
       "      <td>64.6673</td>\n",
       "      <td>70.8152</td>\n",
       "      <td>80.8037</td>\n",
       "    </tr>\n",
       "    <tr>\n",
       "      <th>2018-01-01 00:40:00</th>\n",
       "      <td>NaN</td>\n",
       "      <td>NaN</td>\n",
       "      <td>NaN</td>\n",
       "      <td>NaN</td>\n",
       "      <td>NaN</td>\n",
       "      <td>NaN</td>\n",
       "      <td>NaN</td>\n",
       "      <td>NaN</td>\n",
       "      <td>NaN</td>\n",
       "      <td>NaN</td>\n",
       "      <td>...</td>\n",
       "      <td>NaN</td>\n",
       "      <td>NaN</td>\n",
       "      <td>NaN</td>\n",
       "      <td>NaN</td>\n",
       "      <td>NaN</td>\n",
       "      <td>NaN</td>\n",
       "      <td>64.6673</td>\n",
       "      <td>70.8152</td>\n",
       "      <td>80.8037</td>\n",
       "      <td>86.1123</td>\n",
       "    </tr>\n",
       "    <tr>\n",
       "      <th>...</th>\n",
       "      <td>...</td>\n",
       "      <td>...</td>\n",
       "      <td>...</td>\n",
       "      <td>...</td>\n",
       "      <td>...</td>\n",
       "      <td>...</td>\n",
       "      <td>...</td>\n",
       "      <td>...</td>\n",
       "      <td>...</td>\n",
       "      <td>...</td>\n",
       "      <td>...</td>\n",
       "      <td>...</td>\n",
       "      <td>...</td>\n",
       "      <td>...</td>\n",
       "      <td>...</td>\n",
       "      <td>...</td>\n",
       "      <td>...</td>\n",
       "      <td>...</td>\n",
       "      <td>...</td>\n",
       "      <td>...</td>\n",
       "      <td>...</td>\n",
       "    </tr>\n",
       "    <tr>\n",
       "      <th>2018-08-07 23:10:00</th>\n",
       "      <td>249.581</td>\n",
       "      <td>279.778</td>\n",
       "      <td>193.456</td>\n",
       "      <td>404.387</td>\n",
       "      <td>241.783</td>\n",
       "      <td>135.362</td>\n",
       "      <td>224.015</td>\n",
       "      <td>93.718</td>\n",
       "      <td>225.743</td>\n",
       "      <td>203.734</td>\n",
       "      <td>...</td>\n",
       "      <td>188.676</td>\n",
       "      <td>224.115</td>\n",
       "      <td>187.164</td>\n",
       "      <td>198.042</td>\n",
       "      <td>230.832</td>\n",
       "      <td>264.180</td>\n",
       "      <td>243.6690</td>\n",
       "      <td>211.0140</td>\n",
       "      <td>175.0950</td>\n",
       "      <td>209.5140</td>\n",
       "    </tr>\n",
       "    <tr>\n",
       "      <th>2018-08-07 23:20:00</th>\n",
       "      <td>279.778</td>\n",
       "      <td>193.456</td>\n",
       "      <td>404.387</td>\n",
       "      <td>241.783</td>\n",
       "      <td>135.362</td>\n",
       "      <td>224.015</td>\n",
       "      <td>93.718</td>\n",
       "      <td>225.743</td>\n",
       "      <td>203.734</td>\n",
       "      <td>238.245</td>\n",
       "      <td>...</td>\n",
       "      <td>224.115</td>\n",
       "      <td>187.164</td>\n",
       "      <td>198.042</td>\n",
       "      <td>230.832</td>\n",
       "      <td>264.180</td>\n",
       "      <td>243.669</td>\n",
       "      <td>211.0140</td>\n",
       "      <td>175.0950</td>\n",
       "      <td>209.5140</td>\n",
       "      <td>232.8220</td>\n",
       "    </tr>\n",
       "    <tr>\n",
       "      <th>2018-08-07 23:30:00</th>\n",
       "      <td>193.456</td>\n",
       "      <td>404.387</td>\n",
       "      <td>241.783</td>\n",
       "      <td>135.362</td>\n",
       "      <td>224.015</td>\n",
       "      <td>93.718</td>\n",
       "      <td>225.743</td>\n",
       "      <td>203.734</td>\n",
       "      <td>238.245</td>\n",
       "      <td>240.180</td>\n",
       "      <td>...</td>\n",
       "      <td>187.164</td>\n",
       "      <td>198.042</td>\n",
       "      <td>230.832</td>\n",
       "      <td>264.180</td>\n",
       "      <td>243.669</td>\n",
       "      <td>211.014</td>\n",
       "      <td>175.0950</td>\n",
       "      <td>209.5140</td>\n",
       "      <td>232.8220</td>\n",
       "      <td>220.9390</td>\n",
       "    </tr>\n",
       "    <tr>\n",
       "      <th>2018-08-07 23:40:00</th>\n",
       "      <td>404.387</td>\n",
       "      <td>241.783</td>\n",
       "      <td>135.362</td>\n",
       "      <td>224.015</td>\n",
       "      <td>93.718</td>\n",
       "      <td>225.743</td>\n",
       "      <td>203.734</td>\n",
       "      <td>238.245</td>\n",
       "      <td>240.180</td>\n",
       "      <td>203.690</td>\n",
       "      <td>...</td>\n",
       "      <td>198.042</td>\n",
       "      <td>230.832</td>\n",
       "      <td>264.180</td>\n",
       "      <td>243.669</td>\n",
       "      <td>211.014</td>\n",
       "      <td>175.095</td>\n",
       "      <td>209.5140</td>\n",
       "      <td>232.8220</td>\n",
       "      <td>220.9390</td>\n",
       "      <td>206.5300</td>\n",
       "    </tr>\n",
       "    <tr>\n",
       "      <th>2018-08-07 23:50:00</th>\n",
       "      <td>241.783</td>\n",
       "      <td>135.362</td>\n",
       "      <td>224.015</td>\n",
       "      <td>93.718</td>\n",
       "      <td>225.743</td>\n",
       "      <td>203.734</td>\n",
       "      <td>238.245</td>\n",
       "      <td>240.180</td>\n",
       "      <td>203.690</td>\n",
       "      <td>168.682</td>\n",
       "      <td>...</td>\n",
       "      <td>230.832</td>\n",
       "      <td>264.180</td>\n",
       "      <td>243.669</td>\n",
       "      <td>211.014</td>\n",
       "      <td>175.095</td>\n",
       "      <td>209.514</td>\n",
       "      <td>232.8220</td>\n",
       "      <td>220.9390</td>\n",
       "      <td>206.5300</td>\n",
       "      <td>169.3650</td>\n",
       "    </tr>\n",
       "  </tbody>\n",
       "</table>\n",
       "<p>31536 rows × 36 columns</p>\n",
       "</div>"
      ],
      "text/plain": [
       "                     var1(t-36)  var1(t-35)  var1(t-34)  var1(t-33)  \\\n",
       "Date                                                                  \n",
       "2018-01-01 00:00:00         NaN         NaN         NaN         NaN   \n",
       "2018-01-01 00:10:00         NaN         NaN         NaN         NaN   \n",
       "2018-01-01 00:20:00         NaN         NaN         NaN         NaN   \n",
       "2018-01-01 00:30:00         NaN         NaN         NaN         NaN   \n",
       "2018-01-01 00:40:00         NaN         NaN         NaN         NaN   \n",
       "...                         ...         ...         ...         ...   \n",
       "2018-08-07 23:10:00     249.581     279.778     193.456     404.387   \n",
       "2018-08-07 23:20:00     279.778     193.456     404.387     241.783   \n",
       "2018-08-07 23:30:00     193.456     404.387     241.783     135.362   \n",
       "2018-08-07 23:40:00     404.387     241.783     135.362     224.015   \n",
       "2018-08-07 23:50:00     241.783     135.362     224.015      93.718   \n",
       "\n",
       "                     var1(t-32)  var1(t-31)  var1(t-30)  var1(t-29)  \\\n",
       "Date                                                                  \n",
       "2018-01-01 00:00:00         NaN         NaN         NaN         NaN   \n",
       "2018-01-01 00:10:00         NaN         NaN         NaN         NaN   \n",
       "2018-01-01 00:20:00         NaN         NaN         NaN         NaN   \n",
       "2018-01-01 00:30:00         NaN         NaN         NaN         NaN   \n",
       "2018-01-01 00:40:00         NaN         NaN         NaN         NaN   \n",
       "...                         ...         ...         ...         ...   \n",
       "2018-08-07 23:10:00     241.783     135.362     224.015      93.718   \n",
       "2018-08-07 23:20:00     135.362     224.015      93.718     225.743   \n",
       "2018-08-07 23:30:00     224.015      93.718     225.743     203.734   \n",
       "2018-08-07 23:40:00      93.718     225.743     203.734     238.245   \n",
       "2018-08-07 23:50:00     225.743     203.734     238.245     240.180   \n",
       "\n",
       "                     var1(t-28)  var1(t-27)  ...  var1(t-10)  var1(t-9)  \\\n",
       "Date                                         ...                          \n",
       "2018-01-01 00:00:00         NaN         NaN  ...         NaN        NaN   \n",
       "2018-01-01 00:10:00         NaN         NaN  ...         NaN        NaN   \n",
       "2018-01-01 00:20:00         NaN         NaN  ...         NaN        NaN   \n",
       "2018-01-01 00:30:00         NaN         NaN  ...         NaN        NaN   \n",
       "2018-01-01 00:40:00         NaN         NaN  ...         NaN        NaN   \n",
       "...                         ...         ...  ...         ...        ...   \n",
       "2018-08-07 23:10:00     225.743     203.734  ...     188.676    224.115   \n",
       "2018-08-07 23:20:00     203.734     238.245  ...     224.115    187.164   \n",
       "2018-08-07 23:30:00     238.245     240.180  ...     187.164    198.042   \n",
       "2018-08-07 23:40:00     240.180     203.690  ...     198.042    230.832   \n",
       "2018-08-07 23:50:00     203.690     168.682  ...     230.832    264.180   \n",
       "\n",
       "                     var1(t-8)  var1(t-7)  var1(t-6)  var1(t-5)  var1(t-4)  \\\n",
       "Date                                                                         \n",
       "2018-01-01 00:00:00        NaN        NaN        NaN        NaN        NaN   \n",
       "2018-01-01 00:10:00        NaN        NaN        NaN        NaN        NaN   \n",
       "2018-01-01 00:20:00        NaN        NaN        NaN        NaN        NaN   \n",
       "2018-01-01 00:30:00        NaN        NaN        NaN        NaN        NaN   \n",
       "2018-01-01 00:40:00        NaN        NaN        NaN        NaN    64.6673   \n",
       "...                        ...        ...        ...        ...        ...   \n",
       "2018-08-07 23:10:00    187.164    198.042    230.832    264.180   243.6690   \n",
       "2018-08-07 23:20:00    198.042    230.832    264.180    243.669   211.0140   \n",
       "2018-08-07 23:30:00    230.832    264.180    243.669    211.014   175.0950   \n",
       "2018-08-07 23:40:00    264.180    243.669    211.014    175.095   209.5140   \n",
       "2018-08-07 23:50:00    243.669    211.014    175.095    209.514   232.8220   \n",
       "\n",
       "                     var1(t-3)  var1(t-2)  var1(t-1)  \n",
       "Date                                                  \n",
       "2018-01-01 00:00:00        NaN        NaN        NaN  \n",
       "2018-01-01 00:10:00        NaN        NaN    64.6673  \n",
       "2018-01-01 00:20:00        NaN    64.6673    70.8152  \n",
       "2018-01-01 00:30:00    64.6673    70.8152    80.8037  \n",
       "2018-01-01 00:40:00    70.8152    80.8037    86.1123  \n",
       "...                        ...        ...        ...  \n",
       "2018-08-07 23:10:00   211.0140   175.0950   209.5140  \n",
       "2018-08-07 23:20:00   175.0950   209.5140   232.8220  \n",
       "2018-08-07 23:30:00   209.5140   232.8220   220.9390  \n",
       "2018-08-07 23:40:00   232.8220   220.9390   206.5300  \n",
       "2018-08-07 23:50:00   220.9390   206.5300   169.3650  \n",
       "\n",
       "[31536 rows x 36 columns]"
      ]
     },
     "execution_count": 37,
     "metadata": {},
     "output_type": "execute_result"
    }
   ],
   "source": [
    "X_train"
   ]
  },
  {
   "cell_type": "code",
   "execution_count": 38,
   "metadata": {},
   "outputs": [
    {
     "data": {
      "text/html": [
       "<div>\n",
       "<style scoped>\n",
       "    .dataframe tbody tr th:only-of-type {\n",
       "        vertical-align: middle;\n",
       "    }\n",
       "\n",
       "    .dataframe tbody tr th {\n",
       "        vertical-align: top;\n",
       "    }\n",
       "\n",
       "    .dataframe thead th {\n",
       "        text-align: right;\n",
       "    }\n",
       "</style>\n",
       "<table border=\"1\" class=\"dataframe\">\n",
       "  <thead>\n",
       "    <tr style=\"text-align: right;\">\n",
       "      <th></th>\n",
       "      <th>var1(t)</th>\n",
       "      <th>var1(t+1)</th>\n",
       "      <th>var1(t+2)</th>\n",
       "      <th>var1(t+3)</th>\n",
       "      <th>var1(t+4)</th>\n",
       "      <th>var1(t+5)</th>\n",
       "    </tr>\n",
       "    <tr>\n",
       "      <th>Date</th>\n",
       "      <th></th>\n",
       "      <th></th>\n",
       "      <th></th>\n",
       "      <th></th>\n",
       "      <th></th>\n",
       "      <th></th>\n",
       "    </tr>\n",
       "  </thead>\n",
       "  <tbody>\n",
       "    <tr>\n",
       "      <th>2018-01-01 00:00:00</th>\n",
       "      <td>64.6673</td>\n",
       "      <td>70.8152</td>\n",
       "      <td>80.8037</td>\n",
       "      <td>86.1123</td>\n",
       "      <td>110.8570</td>\n",
       "      <td>106.1850</td>\n",
       "    </tr>\n",
       "    <tr>\n",
       "      <th>2018-01-01 00:10:00</th>\n",
       "      <td>70.8152</td>\n",
       "      <td>80.8037</td>\n",
       "      <td>86.1123</td>\n",
       "      <td>110.8570</td>\n",
       "      <td>106.1850</td>\n",
       "      <td>60.0936</td>\n",
       "    </tr>\n",
       "    <tr>\n",
       "      <th>2018-01-01 00:20:00</th>\n",
       "      <td>80.8037</td>\n",
       "      <td>86.1123</td>\n",
       "      <td>110.8570</td>\n",
       "      <td>106.1850</td>\n",
       "      <td>60.0936</td>\n",
       "      <td>39.2994</td>\n",
       "    </tr>\n",
       "    <tr>\n",
       "      <th>2018-01-01 00:30:00</th>\n",
       "      <td>86.1123</td>\n",
       "      <td>110.8570</td>\n",
       "      <td>106.1850</td>\n",
       "      <td>60.0936</td>\n",
       "      <td>39.2994</td>\n",
       "      <td>45.9785</td>\n",
       "    </tr>\n",
       "    <tr>\n",
       "      <th>2018-01-01 00:40:00</th>\n",
       "      <td>110.8570</td>\n",
       "      <td>106.1850</td>\n",
       "      <td>60.0936</td>\n",
       "      <td>39.2994</td>\n",
       "      <td>45.9785</td>\n",
       "      <td>69.2233</td>\n",
       "    </tr>\n",
       "    <tr>\n",
       "      <th>...</th>\n",
       "      <td>...</td>\n",
       "      <td>...</td>\n",
       "      <td>...</td>\n",
       "      <td>...</td>\n",
       "      <td>...</td>\n",
       "      <td>...</td>\n",
       "    </tr>\n",
       "    <tr>\n",
       "      <th>2018-08-07 23:10:00</th>\n",
       "      <td>232.8220</td>\n",
       "      <td>220.9390</td>\n",
       "      <td>206.5300</td>\n",
       "      <td>169.3650</td>\n",
       "      <td>145.8480</td>\n",
       "      <td>NaN</td>\n",
       "    </tr>\n",
       "    <tr>\n",
       "      <th>2018-08-07 23:20:00</th>\n",
       "      <td>220.9390</td>\n",
       "      <td>206.5300</td>\n",
       "      <td>169.3650</td>\n",
       "      <td>145.8480</td>\n",
       "      <td>NaN</td>\n",
       "      <td>NaN</td>\n",
       "    </tr>\n",
       "    <tr>\n",
       "      <th>2018-08-07 23:30:00</th>\n",
       "      <td>206.5300</td>\n",
       "      <td>169.3650</td>\n",
       "      <td>145.8480</td>\n",
       "      <td>NaN</td>\n",
       "      <td>NaN</td>\n",
       "      <td>NaN</td>\n",
       "    </tr>\n",
       "    <tr>\n",
       "      <th>2018-08-07 23:40:00</th>\n",
       "      <td>169.3650</td>\n",
       "      <td>145.8480</td>\n",
       "      <td>NaN</td>\n",
       "      <td>NaN</td>\n",
       "      <td>NaN</td>\n",
       "      <td>NaN</td>\n",
       "    </tr>\n",
       "    <tr>\n",
       "      <th>2018-08-07 23:50:00</th>\n",
       "      <td>145.8480</td>\n",
       "      <td>NaN</td>\n",
       "      <td>NaN</td>\n",
       "      <td>NaN</td>\n",
       "      <td>NaN</td>\n",
       "      <td>NaN</td>\n",
       "    </tr>\n",
       "  </tbody>\n",
       "</table>\n",
       "<p>31536 rows × 6 columns</p>\n",
       "</div>"
      ],
      "text/plain": [
       "                      var1(t)  var1(t+1)  var1(t+2)  var1(t+3)  var1(t+4)  \\\n",
       "Date                                                                        \n",
       "2018-01-01 00:00:00   64.6673    70.8152    80.8037    86.1123   110.8570   \n",
       "2018-01-01 00:10:00   70.8152    80.8037    86.1123   110.8570   106.1850   \n",
       "2018-01-01 00:20:00   80.8037    86.1123   110.8570   106.1850    60.0936   \n",
       "2018-01-01 00:30:00   86.1123   110.8570   106.1850    60.0936    39.2994   \n",
       "2018-01-01 00:40:00  110.8570   106.1850    60.0936    39.2994    45.9785   \n",
       "...                       ...        ...        ...        ...        ...   \n",
       "2018-08-07 23:10:00  232.8220   220.9390   206.5300   169.3650   145.8480   \n",
       "2018-08-07 23:20:00  220.9390   206.5300   169.3650   145.8480        NaN   \n",
       "2018-08-07 23:30:00  206.5300   169.3650   145.8480        NaN        NaN   \n",
       "2018-08-07 23:40:00  169.3650   145.8480        NaN        NaN        NaN   \n",
       "2018-08-07 23:50:00  145.8480        NaN        NaN        NaN        NaN   \n",
       "\n",
       "                     var1(t+5)  \n",
       "Date                            \n",
       "2018-01-01 00:00:00   106.1850  \n",
       "2018-01-01 00:10:00    60.0936  \n",
       "2018-01-01 00:20:00    39.2994  \n",
       "2018-01-01 00:30:00    45.9785  \n",
       "2018-01-01 00:40:00    69.2233  \n",
       "...                        ...  \n",
       "2018-08-07 23:10:00        NaN  \n",
       "2018-08-07 23:20:00        NaN  \n",
       "2018-08-07 23:30:00        NaN  \n",
       "2018-08-07 23:40:00        NaN  \n",
       "2018-08-07 23:50:00        NaN  \n",
       "\n",
       "[31536 rows x 6 columns]"
      ]
     },
     "execution_count": 38,
     "metadata": {},
     "output_type": "execute_result"
    }
   ],
   "source": [
    "Y_train"
   ]
  },
  {
   "cell_type": "markdown",
   "metadata": {},
   "source": [
    "## PREPROCESSING OF THE DATA IS NEEDED BECASUE THE NANS IN THE OUTPUT ARE NOT ALLOWED"
   ]
  },
  {
   "cell_type": "markdown",
   "metadata": {},
   "source": [
    "Preporcessing of training data"
   ]
  },
  {
   "cell_type": "code",
   "execution_count": 39,
   "metadata": {},
   "outputs": [],
   "source": [
    "# find and store the indices where there is a nNan in Y_train\n",
    "nan_index_y = np.where(np.isnan(Y_train['var1(t)']))[0] #this is the present t (which will be pedicted by the previous time stamps)\n",
    "# we need to remove the corresponding rows in Y_train at t\n",
    "Y_train = Y_train.drop(Y_train.index[nan_index_y])\n",
    "# regarding the next timesteps, we also need to remove last rows diagonal which has nans\n",
    "Y_train = Y_train.drop(Y_train.index[-(n_out-1):]) # to account for tis we will delete the first n_out-1 rows of X_train\n",
    "\n",
    "\n",
    "# now we need to drop the corresponding rows in X_train\n",
    "# however the corresponding rows will be shifted by n_lag\n",
    "nan_index_x = nan_index_y + 1\n",
    "# remove rows in X_train at index nan_index_x\n",
    "X_train = X_train.drop(X_train.index[nan_index_x])\n",
    "# accounting for the n_out-1 rows we removed from Y_train, we will also remove the first n_out-1 rows of X_train\n",
    "X_train = X_train.drop(X_train.index[:(n_out-1)])"
   ]
  },
  {
   "cell_type": "code",
   "execution_count": 40,
   "metadata": {},
   "outputs": [],
   "source": [
    "# how many nans are there in Y_train[var1(t+1)]?\n",
    "nan_index_y2 = np.where(np.isnan(Y_train['var1(t+1)']))[0] # 207\n",
    "# what do with this?, if there werent a lot we could eliminte but if we want to predict many hoyrs ex 6 this will be multiplied by 36, too much\n",
    "# we will perform a fill which is the linear interpolation betwween the previous and next value\n",
    "Y_train = Y_train.interpolate(method='linear', axis=0).ffill().bfill()"
   ]
  },
  {
   "cell_type": "markdown",
   "metadata": {},
   "source": [
    "preprocessing of validation data: repeat same as training"
   ]
  },
  {
   "cell_type": "code",
   "execution_count": 41,
   "metadata": {},
   "outputs": [],
   "source": [
    "nan_y_validation = np.where(np.isnan(Y_validation['var1(t)']))[0]\n",
    "Y_validation = Y_validation.drop(Y_validation.index[nan_y_validation])\n",
    "Y_validation = Y_validation.drop(Y_validation.index[-(n_out-1):])\n",
    "\n",
    "nan_x_validation = nan_y_validation + 1\n",
    "X_validation = X_validation.drop(X_validation.index[nan_x_validation])\n",
    "X_validation = X_validation.drop(X_validation.index[:n_out-1])"
   ]
  },
  {
   "cell_type": "code",
   "execution_count": 42,
   "metadata": {},
   "outputs": [],
   "source": [
    "nan_index_valid_y2 = np.where(np.isnan(Y_validation['var1(t+1)']))[0]\n",
    "Y_validation = Y_validation.interpolate(method='linear', axis=0).ffill().bfill()"
   ]
  },
  {
   "cell_type": "markdown",
   "metadata": {},
   "source": [
    "preprocessing of test data: repeat same as training"
   ]
  },
  {
   "cell_type": "code",
   "execution_count": 43,
   "metadata": {},
   "outputs": [],
   "source": [
    "nan_y_test = np.where(np.isnan(Y_test['var1(t)']))[0]\n",
    "#Y_test = Y_test.dropna()\n",
    "\n",
    "nan_x_test = nan_y_test + 1\n",
    "#X_test = X_test.drop(X_test.index[nan_x_test])"
   ]
  },
  {
   "cell_type": "markdown",
   "metadata": {},
   "source": [
    "### Remember to scale!"
   ]
  },
  {
   "cell_type": "code",
   "execution_count": 44,
   "metadata": {},
   "outputs": [
    {
     "name": "stdout",
     "output_type": "stream",
     "text": [
      "Training input (samples, timesteps): (21986, 36)\n",
      "Training output (samples, timesteps): (21986, 6)\n",
      "Validation input (samples, timesteps): (8159, 36)\n",
      "Validation output (samples, timesteps): (8159, 6)\n"
     ]
    }
   ],
   "source": [
    "from sklearn.preprocessing import MinMaxScaler\n",
    "### scale the dataset\n",
    "scalerx = MinMaxScaler(feature_range=(0, 1))\n",
    "scalery = MinMaxScaler(feature_range=(0, 1))\n",
    "\n",
    "X_train_scaled = scalerx.fit_transform(X_train)\n",
    "X_validation_scaled = scalerx.transform(X_validation)\n",
    "X_test_scaled = scalerx.transform(X_test)\n",
    "\n",
    "Y_train_scaled = scalery.fit_transform(Y_train)\n",
    "Y_validation_scaled = scalery.transform(Y_validation)\n",
    "Y_test_scaled = scalery.transform(Y_test)\n",
    "\n",
    "print('Training input (samples, timesteps):', X_train_scaled.shape)\n",
    "print('Training output (samples, timesteps):', Y_train.shape)\n",
    "print('Validation input (samples, timesteps):', X_validation_scaled.shape)\n",
    "print('Validation output (samples, timesteps):', Y_validation.shape)\n"
   ]
  },
  {
   "cell_type": "markdown",
   "metadata": {},
   "source": [
    "### Pad NaNs for missing periods with a significant number (to be 'masked' for the training later)"
   ]
  },
  {
   "cell_type": "code",
   "execution_count": 45,
   "metadata": {},
   "outputs": [],
   "source": [
    "pad_value = 999\n",
    "\n",
    "X_train_scaled[np.isnan(X_train_scaled)] = pad_value\n",
    "X_validation_scaled[np.isnan(X_validation_scaled)] = pad_value\n",
    "#X_test_scaled[np.isnan(X_test_scaled)] = pad_value\n",
    "\n",
    "# I have dropped the nans so these are not useful anaymore,### though what about the last rows?\n",
    "#Y_train_scaled[np.isnan(Y_train_scaled)] = pad_value\n",
    "#Y_validation_scaled[np.isnan(Y_validation_scaled)] = pad_value\n",
    "#Y_test_scaled[np.isnan(Y_test_scaled)] = pad_value"
   ]
  },
  {
   "cell_type": "code",
   "execution_count": 46,
   "metadata": {},
   "outputs": [
    {
     "data": {
      "text/plain": [
       "array([[9.99000000e+02, 9.99000000e+02, 9.99000000e+02, ...,\n",
       "        9.26242766e-02, 9.87942748e-02, 1.27613106e-01],\n",
       "       [9.99000000e+02, 9.99000000e+02, 9.99000000e+02, ...,\n",
       "        9.87942748e-02, 1.27554165e-01, 1.22183372e-01],\n",
       "       [9.99000000e+02, 9.99000000e+02, 9.99000000e+02, ...,\n",
       "        1.27554165e-01, 1.22124065e-01, 6.86165857e-02],\n",
       "       ...,\n",
       "       [2.23556064e-01, 4.68713712e-01, 2.79724829e-01, ...,\n",
       "        2.42219710e-01, 2.69309775e-01, 2.55548881e-01],\n",
       "       [4.68713712e-01, 2.79724829e-01, 1.56035461e-01, ...,\n",
       "        2.69309775e-01, 2.55498584e-01, 2.38802941e-01],\n",
       "       [2.79724829e-01, 1.56035461e-01, 2.59073710e-01, ...,\n",
       "        2.55498584e-01, 2.38751512e-01, 1.95610293e-01]])"
      ]
     },
     "execution_count": 46,
     "metadata": {},
     "output_type": "execute_result"
    }
   ],
   "source": [
    "X_train_scaled"
   ]
  },
  {
   "cell_type": "code",
   "execution_count": 47,
   "metadata": {},
   "outputs": [
    {
     "data": {
      "text/plain": [
       "array([[0.07393208, 0.08107708, 0.09268558, 0.09885516, 0.12761311,\n",
       "        0.12218337],\n",
       "       [0.08107708, 0.09268558, 0.09885516, 0.12761311, 0.12218337,\n",
       "        0.06861659],\n",
       "       [0.09268558, 0.09885516, 0.12761311, 0.12218337, 0.06861659,\n",
       "        0.04444985],\n",
       "       ...,\n",
       "       [0.24401418, 0.20226962, 0.2422709 , 0.26935914, 0.25554888,\n",
       "        0.23880294],\n",
       "       [0.20226962, 0.2422709 , 0.26935914, 0.25554888, 0.23880294,\n",
       "        0.19561029],\n",
       "       [0.2422709 , 0.26935914, 0.25554888, 0.23880294, 0.19561029,\n",
       "        0.16827916]])"
      ]
     },
     "execution_count": 47,
     "metadata": {},
     "output_type": "execute_result"
    }
   ],
   "source": [
    "Y_train_scaled"
   ]
  },
  {
   "cell_type": "markdown",
   "metadata": {},
   "source": [
    "## LSTM architecture\n",
    "\n",
    "We will first add a Masking layer to tell the network to ignore missing periods in the training\n",
    " \n",
    "We will use pretty much the same architecture with FFNN, except for the LSTM layers. \n",
    "\n",
    "There are however, little differences LSTM requires in bulding the model."
   ]
  },
  {
   "cell_type": "code",
   "execution_count": 48,
   "metadata": {},
   "outputs": [],
   "source": [
    "from tensorflow.keras.layers import LSTM, Masking\n",
    "\n",
    "# for multiple model creation - clear  the previous DAG\n",
    "K.clear_session() \n",
    "\n",
    "### Input reshape for LSTM problem  [samples, timesteps, features]\n",
    "no_features = 1 # power\n",
    "\n",
    "train_X = X_train_scaled.reshape((X_train_scaled.shape[0], n_lag, no_features))#.astype('float32')\n",
    "train_Y = Y_train_scaled #.values#.astype('float32')\n",
    "\n",
    "validation_X = X_validation_scaled.reshape((X_validation_scaled.shape[0], n_lag, no_features))#.astype('float32')\n",
    "validation_Y = Y_validation_scaled #.values#.astype('float32')\n",
    "\n",
    "test_X = X_test_scaled.reshape((X_test_scaled.shape[0], n_lag, no_features))#.astype('float32')\n",
    "test_Y = Y_test_scaled #.values#.astype('float32')\n"
   ]
  },
  {
   "cell_type": "code",
   "execution_count": 49,
   "metadata": {},
   "outputs": [
    {
     "name": "stdout",
     "output_type": "stream",
     "text": [
      "Model: \"sequential\"\n",
      "_________________________________________________________________\n",
      " Layer (type)                Output Shape              Param #   \n",
      "=================================================================\n",
      " masking (Masking)           (None, None, 1)           0         \n",
      "                                                                 \n",
      " lstm (LSTM)                 (None, None, 50)          10400     \n",
      "                                                                 \n",
      " activation (Activation)     (None, None, 50)          0         \n",
      "                                                                 \n",
      " lstm_1 (LSTM)               (None, 10)                2440      \n",
      "                                                                 \n",
      " dense (Dense)               (None, 1)                 11        \n",
      "                                                                 \n",
      "=================================================================\n",
      "Total params: 12851 (50.20 KB)\n",
      "Trainable params: 12851 (50.20 KB)\n",
      "Non-trainable params: 0 (0.00 Byte)\n",
      "_________________________________________________________________\n",
      "Epoch 1/15\n",
      "22/22 [==============================] - 22s 513ms/step - loss: 0.0283 - val_loss: 0.0094\n",
      "Epoch 2/15\n",
      "22/22 [==============================] - 8s 358ms/step - loss: 0.0068 - val_loss: 0.0067\n",
      "Epoch 3/15\n",
      "22/22 [==============================] - 8s 345ms/step - loss: 0.0053 - val_loss: 0.0059\n",
      "Epoch 4/15\n",
      "22/22 [==============================] - 9s 415ms/step - loss: 0.0047 - val_loss: 0.0054\n",
      "Epoch 5/15\n",
      "22/22 [==============================] - 9s 399ms/step - loss: 0.0043 - val_loss: 0.0050\n",
      "Epoch 6/15\n",
      "22/22 [==============================] - 8s 360ms/step - loss: 0.0040 - val_loss: 0.0047\n",
      "Epoch 7/15\n",
      "22/22 [==============================] - 8s 363ms/step - loss: 0.0038 - val_loss: 0.0044\n",
      "Epoch 8/15\n",
      "22/22 [==============================] - 7s 338ms/step - loss: 0.0036 - val_loss: 0.0042\n",
      "Epoch 9/15\n",
      "22/22 [==============================] - 7s 338ms/step - loss: 0.0035 - val_loss: 0.0040\n",
      "Epoch 10/15\n",
      "22/22 [==============================] - 7s 298ms/step - loss: 0.0033 - val_loss: 0.0038\n",
      "Epoch 11/15\n",
      "22/22 [==============================] - 6s 292ms/step - loss: 0.0032 - val_loss: 0.0037\n",
      "Epoch 12/15\n",
      "22/22 [==============================] - 6s 290ms/step - loss: 0.0031 - val_loss: 0.0036\n",
      "Epoch 13/15\n",
      "22/22 [==============================] - 8s 372ms/step - loss: 0.0031 - val_loss: 0.0035\n",
      "Epoch 14/15\n",
      "22/22 [==============================] - 9s 409ms/step - loss: 0.0030 - val_loss: 0.0035\n",
      "Epoch 15/15\n",
      "22/22 [==============================] - 7s 331ms/step - loss: 0.0030 - val_loss: 0.0034\n"
     ]
    }
   ],
   "source": [
    "from keras.callbacks import EarlyStopping\n",
    "### create model\n",
    "model = Sequential()\n",
    "\n",
    "# Masking layer (for the pad_value)\n",
    "model.add(Masking(mask_value=pad_value, input_shape=(None, no_features)))\n",
    "#model.add(Masking(mask_value=NanIgnore, input_shape=(None, no_features))) # 0.0011607661 is the pad_value for the scaled -1\n",
    "\n",
    "\n",
    "# First LSTM layer\n",
    "model.add(LSTM(50, \n",
    "               return_sequences=True,  # important to add it to ensure the following LSTM layers will have the same input shape\n",
    "               input_shape=(train_X.shape[1], train_X.shape[2]),                \n",
    "               kernel_initializer='glorot_uniform',\n",
    "               bias_initializer='zeros'))\n",
    "               \n",
    "# then we add the activation\n",
    "model.add(Activation('tanh'))\n",
    "\n",
    "# Second LSTM layer\n",
    "model.add(LSTM(10, activation='tanh'))\n",
    "\n",
    "# Output Layer\n",
    "model.add(Dense(1))\n",
    "model.summary()\n",
    "\n",
    "# compile the model\n",
    "model.compile(loss='mean_squared_error', optimizer='adam')\n",
    "# fit the model and store the graphs and performance to be used in TensorBoard (optional)\n",
    "now = datetime.datetime.now().strftime(\"%Y%m%d%H%M\")\n",
    "\n",
    "tbGraph = TensorBoard(log_dir=f'.\\Graph\\{now}',\n",
    "                      histogram_freq=64*2, write_graph=True, write_images=True)\n",
    "\n",
    "early_stopping = EarlyStopping(monitor='val_loss', patience=3)\n",
    "# add it to your callbacks list\n",
    "callbacks = [tbGraph, early_stopping]\n",
    "\n",
    "history = model.fit(train_X, train_Y, \n",
    "          epochs=15,\n",
    "          batch_size=1000,\n",
    "          validation_data=(validation_X, validation_Y),\n",
    "          callbacks=[tbGraph])\n",
    "\n",
    "\n"
   ]
  },
  {
   "cell_type": "code",
   "execution_count": 50,
   "metadata": {},
   "outputs": [
    {
     "data": {
      "text/plain": [
       "<matplotlib.legend.Legend at 0x1e0c72957d0>"
      ]
     },
     "execution_count": 50,
     "metadata": {},
     "output_type": "execute_result"
    },
    {
     "data": {
      "image/png": "[encoded data removed]",
      "text/plain": [
       "<Figure size 640x480 with 1 Axes>"
      ]
     },
     "metadata": {},
     "output_type": "display_data"
    }
   ],
   "source": [
    "# plot the lost\n",
    "plt.plot(history.history['loss'], label='train')\n",
    "plt.plot(history.history['val_loss'], label='validation')\n",
    "\n",
    "plt.legend()"
   ]
  },
  {
   "cell_type": "code",
   "execution_count": 51,
   "metadata": {},
   "outputs": [
    {
     "data": {
      "text/html": [
       "<style>#sk-container-id-2 {color: black;background-color: white;}#sk-container-id-2 pre{padding: 0;}#sk-container-id-2 div.sk-toggleable {background-color: white;}#sk-container-id-2 label.sk-toggleable__label {cursor: pointer;display: block;width: 100%;margin-bottom: 0;padding: 0.3em;box-sizing: border-box;text-align: center;}#sk-container-id-2 label.sk-toggleable__label-arrow:before {content: \"▸\";float: left;margin-right: 0.25em;color: #696969;}#sk-container-id-2 label.sk-toggleable__label-arrow:hover:before {color: black;}#sk-container-id-2 div.sk-estimator:hover label.sk-toggleable__label-arrow:before {color: black;}#sk-container-id-2 div.sk-toggleable__content {max-height: 0;max-width: 0;overflow: hidden;text-align: left;background-color: #f0f8ff;}#sk-container-id-2 div.sk-toggleable__content pre {margin: 0.2em;color: black;border-radius: 0.25em;background-color: #f0f8ff;}#sk-container-id-2 input.sk-toggleable__control:checked~div.sk-toggleable__content {max-height: 200px;max-width: 100%;overflow: auto;}#sk-container-id-2 input.sk-toggleable__control:checked~label.sk-toggleable__label-arrow:before {content: \"▾\";}#sk-container-id-2 div.sk-estimator input.sk-toggleable__control:checked~label.sk-toggleable__label {background-color: #d4ebff;}#sk-container-id-2 div.sk-label input.sk-toggleable__control:checked~label.sk-toggleable__label {background-color: #d4ebff;}#sk-container-id-2 input.sk-hidden--visually {border: 0;clip: rect(1px 1px 1px 1px);clip: rect(1px, 1px, 1px, 1px);height: 1px;margin: -1px;overflow: hidden;padding: 0;position: absolute;width: 1px;}#sk-container-id-2 div.sk-estimator {font-family: monospace;background-color: #f0f8ff;border: 1px dotted black;border-radius: 0.25em;box-sizing: border-box;margin-bottom: 0.5em;}#sk-container-id-2 div.sk-estimator:hover {background-color: #d4ebff;}#sk-container-id-2 div.sk-parallel-item::after {content: \"\";width: 100%;border-bottom: 1px solid gray;flex-grow: 1;}#sk-container-id-2 div.sk-label:hover label.sk-toggleable__label {background-color: #d4ebff;}#sk-container-id-2 div.sk-serial::before {content: \"\";position: absolute;border-left: 1px solid gray;box-sizing: border-box;top: 0;bottom: 0;left: 50%;z-index: 0;}#sk-container-id-2 div.sk-serial {display: flex;flex-direction: column;align-items: center;background-color: white;padding-right: 0.2em;padding-left: 0.2em;position: relative;}#sk-container-id-2 div.sk-item {position: relative;z-index: 1;}#sk-container-id-2 div.sk-parallel {display: flex;align-items: stretch;justify-content: center;background-color: white;position: relative;}#sk-container-id-2 div.sk-item::before, #sk-container-id-2 div.sk-parallel-item::before {content: \"\";position: absolute;border-left: 1px solid gray;box-sizing: border-box;top: 0;bottom: 0;left: 50%;z-index: -1;}#sk-container-id-2 div.sk-parallel-item {display: flex;flex-direction: column;z-index: 1;position: relative;background-color: white;}#sk-container-id-2 div.sk-parallel-item:first-child::after {align-self: flex-end;width: 50%;}#sk-container-id-2 div.sk-parallel-item:last-child::after {align-self: flex-start;width: 50%;}#sk-container-id-2 div.sk-parallel-item:only-child::after {width: 0;}#sk-container-id-2 div.sk-dashed-wrapped {border: 1px dashed gray;margin: 0 0.4em 0.5em 0.4em;box-sizing: border-box;padding-bottom: 0.4em;background-color: white;}#sk-container-id-2 div.sk-label label {font-family: monospace;font-weight: bold;display: inline-block;line-height: 1.2em;}#sk-container-id-2 div.sk-label-container {text-align: center;}#sk-container-id-2 div.sk-container {/* jupyter's `normalize.less` sets `[hidden] { display: none; }` but bootstrap.min.css set `[hidden] { display: none !important; }` so we also need the `!important` here to be able to override the default hidden behavior on the sphinx rendered scikit-learn.org. See: https://github.com/scikit-learn/scikit-learn/issues/21755 */display: inline-block !important;position: relative;}#sk-container-id-2 div.sk-text-repr-fallback {display: none;}</style><div id=\"sk-container-id-2\" class=\"sk-top-container\"><div class=\"sk-text-repr-fallback\"><pre>MinMaxScaler()</pre><b>In a Jupyter environment, please rerun this cell to show the HTML representation or trust the notebook. <br />On GitHub, the HTML representation is unable to render, please try loading this page with nbviewer.org.</b></div><div class=\"sk-container\" hidden><div class=\"sk-item\"><div class=\"sk-estimator sk-toggleable\"><input class=\"sk-toggleable__control sk-hidden--visually\" id=\"sk-estimator-id-2\" type=\"checkbox\" checked><label for=\"sk-estimator-id-2\" class=\"sk-toggleable__label sk-toggleable__label-arrow\">MinMaxScaler</label><div class=\"sk-toggleable__content\"><pre>MinMaxScaler()</pre></div></div></div></div></div>"
      ],
      "text/plain": [
       "MinMaxScaler()"
      ]
     },
     "execution_count": 51,
     "metadata": {},
     "output_type": "execute_result"
    }
   ],
   "source": [
    "# Fit a new scaler on the single feature you're predicting\n",
    "scaler_single = MinMaxScaler()\n",
    "scaler_single.fit(Y_test['var1(t)'].values.reshape(-1, 1))  # Reshape to 2D array\n"
   ]
  },
  {
   "cell_type": "code",
   "execution_count": 52,
   "metadata": {},
   "outputs": [
    {
     "name": "stdout",
     "output_type": "stream",
     "text": [
      "329/329 [==============================] - 8s 14ms/step\n"
     ]
    }
   ],
   "source": [
    "# Make predictions and plot them against the actual values\n",
    "predictions = model.predict(test_X)\n"
   ]
  },
  {
   "cell_type": "code",
   "execution_count": 53,
   "metadata": {},
   "outputs": [],
   "source": [
    "\n",
    "# Invert the predictions to the original scale\n",
    "predictions = scaler_single.inverse_transform(predictions)\n"
   ]
  },
  {
   "cell_type": "code",
   "execution_count": 54,
   "metadata": {},
   "outputs": [
    {
     "data": {
      "text/plain": [
       "array([[ 47.8596,  40.1275,  48.9501,  48.1567,  53.2609,  68.6759],\n",
       "       [ 40.1275,  48.9501,  48.1567,  53.2609,  68.6759,  49.6674],\n",
       "       [ 48.9501,  48.1567,  53.2609,  68.6759,  49.6674,  72.1582],\n",
       "       ...,\n",
       "       [632.185 , 547.601 , 506.603 ,      nan,      nan,      nan],\n",
       "       [547.601 , 506.603 ,      nan,      nan,      nan,      nan],\n",
       "       [506.603 ,      nan,      nan,      nan,      nan,      nan]])"
      ]
     },
     "execution_count": 54,
     "metadata": {},
     "output_type": "execute_result"
    }
   ],
   "source": [
    "test_Y = scalery.inverse_transform(test_Y)\n",
    "test_Y"
   ]
  },
  {
   "cell_type": "code",
   "execution_count": 55,
   "metadata": {},
   "outputs": [
    {
     "data": {
      "text/plain": [
       "<matplotlib.legend.Legend at 0x1e0d4138590>"
      ]
     },
     "execution_count": 55,
     "metadata": {},
     "output_type": "execute_result"
    },
    {
     "data": {
      "image/png": "[encoded data removed]",
      "text/plain": [
       "<Figure size 1000x800 with 1 Axes>"
      ]
     },
     "metadata": {},
     "output_type": "display_data"
    }
   ],
   "source": [
    "\n",
    "# plot the predictions\n",
    "plt.figure(figsize=(10,8))\n",
    "\n",
    "plt.plot(test_Y[150:144*3,-1], 'k', label='actual', linewidth=2)\n",
    "plt.plot(predictions[150:144*3],'-r', label='predictions', linewidth=2)\n",
    "plt.grid(True)\n",
    "\n",
    "plt.title('Predictions vs Actual Values', fontsize=20)\n",
    "plt.xlabel('Time', fontsize=16)\n",
    "plt.ylabel('Power', fontsize=16)\n",
    "\n",
    "plt.legend()"
   ]
  },
  {
   "cell_type": "markdown",
   "metadata": {},
   "source": [
    "## PERCENTAGE ERROR"
   ]
  },
  {
   "cell_type": "markdown",
   "metadata": {},
   "source": [
    "### Procees the predictions and test_y to be able to calculate the percentage error"
   ]
  },
  {
   "cell_type": "code",
   "execution_count": 56,
   "metadata": {},
   "outputs": [],
   "source": [
    "# Remove the first n_lag values from both predictions and test_Y\n",
    "date = Y_test.index[n_lag:]\n",
    "predictions = predictions[n_lag:]\n",
    "test_Y = test_Y[n_lag:]"
   ]
  },
  {
   "cell_type": "code",
   "execution_count": 57,
   "metadata": {},
   "outputs": [],
   "source": [
    "percentage_error = ((predictions - test_Y)/test_Y)*100"
   ]
  },
  {
   "cell_type": "code",
   "execution_count": 58,
   "metadata": {},
   "outputs": [
    {
     "data": {
      "text/plain": [
       "<matplotlib.legend.Legend at 0x1e0b0cc0950>"
      ]
     },
     "execution_count": 58,
     "metadata": {},
     "output_type": "execute_result"
    },
    {
     "data": {
      "image/png": "[encoded data removed]",
      "text/plain": [
       "<Figure size 1000x800 with 1 Axes>"
      ]
     },
     "metadata": {},
     "output_type": "display_data"
    }
   ],
   "source": [
    "\n",
    "# plot the percentage error\n",
    "plt.figure(figsize=(10,8))\n",
    "\n",
    "plt.plot(percentage_error, 'k', label='percentage error', linewidth=2)\n",
    "plt.grid(True)\n",
    "\n",
    "plt.title('Percentage Error', fontsize=20)\n",
    "plt.xlabel('Time', fontsize=16)\n",
    "plt.ylabel('Percentage Error', fontsize=16)\n",
    "\n",
    "plt.legend()"
   ]
  },
  {
   "cell_type": "code",
   "execution_count": 59,
   "metadata": {},
   "outputs": [
    {
     "data": {
      "image/png": "[encoded data removed]",
      "text/plain": [
       "<Figure size 1000x800 with 1 Axes>"
      ]
     },
     "metadata": {},
     "output_type": "display_data"
    }
   ],
   "source": [
    "# plot the distribution of the percentage error\n",
    "plt.figure(figsize=(10,8))\n",
    "\n",
    "sns.histplot(percentage_error, bins=100, kde=True, color='k')\n",
    "\n",
    "plt.title('Distribution of Percentage Error', fontsize=20)\n",
    "plt.xlabel('Percentage Error', fontsize=16)\n",
    "plt.ylabel('Frequency', fontsize=16)\n",
    "\n",
    "# filter values greater than 300%\n",
    "percentage_error = percentage_error[percentage_error < 300]"
   ]
  },
  {
   "cell_type": "code",
   "execution_count": 60,
   "metadata": {},
   "outputs": [
    {
     "data": {
      "text/plain": [
       "965"
      ]
     },
     "execution_count": 60,
     "metadata": {},
     "output_type": "execute_result"
    }
   ],
   "source": [
    "# check ho many values are greater than 100%\n",
    "len(percentage_error[percentage_error > 150])"
   ]
  },
  {
   "cell_type": "code",
   "execution_count": 63,
   "metadata": {},
   "outputs": [
    {
     "name": "stderr",
     "output_type": "stream",
     "text": [
      "C:\\Users\\jorge\\AppData\\Local\\Temp\\ipykernel_1128\\3020309460.py:7: UserWarning: \n",
      "\n",
      "`distplot` is a deprecated function and will be removed in seaborn v0.14.0.\n",
      "\n",
      "Please adapt your code to use either `displot` (a figure-level function with\n",
      "similar flexibility) or `histplot` (an axes-level function for histograms).\n",
      "\n",
      "For a guide to updating your code to use the new functions, please see\n",
      "https://gist.github.com/mwaskom/de44147ed2974457ad6372750bbe5751\n",
      "\n",
      "  sns.distplot(percentage_error, bins=30, kde=True, color='k')\n"
     ]
    },
    {
     "data": {
      "text/plain": [
       "Text(0, 0.5, 'Frequency')"
      ]
     },
     "execution_count": 63,
     "metadata": {},
     "output_type": "execute_result"
    },
    {
     "data": {
      "image/png": "[encoded data removed]",
      "text/plain": [
       "<Figure size 1000x800 with 1 Axes>"
      ]
     },
     "metadata": {},
     "output_type": "display_data"
    }
   ],
   "source": [
    "# filter values greater than 300%\n",
    "percentage_error = percentage_error[percentage_error < 150]\n",
    "\n",
    "# plot the distribution of the percentage error\n",
    "plt.figure(figsize=(10,8))\n",
    "\n",
    "sns.distplot(percentage_error, bins=30, kde=True,  color='k')\n",
    "\n",
    "plt.title('Distribution of Percentage Error', fontsize=20)\n",
    "plt.xlabel('Percentage Error', fontsize=16)\n",
    "plt.ylabel('Frequency', fontsize=16)"
   ]
  },
  {
   "cell_type": "code",
   "execution_count": 62,
   "metadata": {},
   "outputs": [
    {
     "name": "stdout",
     "output_type": "stream",
     "text": [
      "mean_percentage_error: 6.118848560286527\n",
      "std_percentage_error: 39.291908481702144\n"
     ]
    }
   ],
   "source": [
    "# get the mean and standard deviation of the percentage error\n",
    "mean_percentage_error = np.mean(percentage_error)\n",
    "std_percentage_error = np.std(percentage_error)\n",
    "\n",
    "print('mean_percentage_error:', mean_percentage_error)\n",
    "print('std_percentage_error:', std_percentage_error)"
   ]
  }
 ],
 "metadata": {
  "kernelspec": {
   "display_name": "Python 3",
   "language": "python",
   "name": "python3"
  },
  "language_info": {
   "codemirror_mode": {
    "name": "ipython",
    "version": 3
   },
   "file_extension": ".py",
   "mimetype": "text/x-python",
   "name": "python",
   "nbconvert_exporter": "python",
   "pygments_lexer": "ipython3",
   "version": "3.11.5"
  }
 },
 "nbformat": 4,
 "nbformat_minor": 2
}
