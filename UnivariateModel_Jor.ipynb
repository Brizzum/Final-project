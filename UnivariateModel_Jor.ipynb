{
 "cells": [
  {
   "cell_type": "code",
   "execution_count": 1,
   "metadata": {},
   "outputs": [],
   "source": [
    "import numpy as np\n",
    "import pandas as pd\n",
    "import matplotlib.pyplot as plt\n",
    "import datetime\n",
    "import seaborn as sns"
   ]
  },
  {
   "cell_type": "code",
   "execution_count": 2,
   "metadata": {},
   "outputs": [],
   "source": [
    "import tensorflow as tf\n",
    "from tensorflow.keras.models import Sequential\n",
    "from tensorflow.keras.layers import Dense\n",
    "import tensorflow.keras.backend as K\n",
    "# Use Tensorboard for network visualization & debugging\n",
    "from tensorflow.keras.callbacks import TensorBoard\n",
    "import sklearn.metrics\n",
    "# import regularizer(s)\n",
    "from tensorflow.keras.regularizers import l1, l2, l1_l2\n",
    "# import Dropout\n",
    "from tensorflow.keras.layers import Dropout\n",
    "# import activation seperately\n",
    "from tensorflow.keras.layers import Activation"
   ]
  },
  {
   "cell_type": "code",
   "execution_count": 3,
   "metadata": {},
   "outputs": [],
   "source": [
    "## Ignore future warnings\n",
    "import warnings\n",
    "warnings.simplefilter(action='ignore', category=FutureWarning)"
   ]
  },
  {
   "cell_type": "markdown",
   "metadata": {},
   "source": [
    "## 1) LOAD THE DATA"
   ]
  },
  {
   "cell_type": "code",
   "execution_count": 4,
   "metadata": {},
   "outputs": [],
   "source": [
    "V52_data = pd.read_csv('V52_data_process.csv')\n",
    "# make Date the index in datetime format\n",
    "V52_data.index = pd.to_datetime(V52_data['Date'], format='%Y%m%d%H%M')"
   ]
  },
  {
   "cell_type": "markdown",
   "metadata": {},
   "source": [
    "## -----------------------------------------------------------------"
   ]
  },
  {
   "cell_type": "code",
   "execution_count": 5,
   "metadata": {},
   "outputs": [],
   "source": [
    "### define a function that will prepare the shifting input sequences for the network\n",
    "def forecast_sequences_input(input_data, n_lag):\n",
    "    \"\"\"\n",
    "    A function that will split the input time series to sequences for nowcast/forecast problems\n",
    "    Arguments:\n",
    "        input_data: Time series of input observations as a list, NumPy array or pandas series\n",
    "        n_lag: number of previous time steps to use for training, a.k.a. time-lag        \n",
    "    Returns:\n",
    "        Pandas DataFrame of series framed for supervised learning.\n",
    "    \"\"\"\n",
    "    n_vars = input_data.shape[1] \n",
    "    df = pd.DataFrame(input_data)\n",
    "    cols, names = list(), list()\n",
    "    # input sequence (t-n, ... t-1)\n",
    "    for i in range(n_lag, 0, -1):\n",
    "        cols.append(df.shift(i))\n",
    "        names += [('var%d(t-%d)' % (j+1, i)) for j in range(n_vars)]\n",
    "    # put it all together (aggregate)\n",
    "    agg = pd.concat(cols, axis=1)\n",
    "    agg.columns = names\n",
    "    return agg\n",
    "\n",
    "\n",
    "### define a function that will prepare the shifting output sequences of the network\n",
    "def forecast_sequences_output(output_data,n_out):\n",
    "    \"\"\"\n",
    "    A function that will split the output time series to sequences for nowcast/forecast problems\n",
    "    Arguments:\n",
    "        output_data: Time series of input observations as a list, NumPy array or pandas series\n",
    "        n_out: forecast horizon (for multi-output forecast)\n",
    "    Returns:\n",
    "        Pandas DataFrame of series framed for supervised learning.\n",
    "    \"\"\"\n",
    "    n_vars = output_data.shape[1] \n",
    "    df = pd.DataFrame(output_data)\n",
    "    cols, names = list(), list()\n",
    "    # forecast sequence (t, t+1, ... t+n)\n",
    "    for i in range(0, n_out):\n",
    "        cols.append(df.shift(-i))\n",
    "        if i == 0:\n",
    "            names += [('var%d(t)' % (j+1)) for j in range(n_vars)]\n",
    "        else:\n",
    "            names += [('var%d(t+%d)' % (j+1, i)) for j in range(n_vars)]\n",
    "    # put it all together (aggregate)\n",
    "    agg = pd.concat(cols, axis=1)\n",
    "    agg.columns = names    \n",
    "    return agg\n"
   ]
  },
  {
   "cell_type": "markdown",
   "metadata": {},
   "source": [
    "## ------------------------------------------------------------------"
   ]
  },
  {
   "cell_type": "markdown",
   "metadata": {},
   "source": [
    "## 2) CREATE AND DATA FRAME  WITH THE VARIABLES TO BE USED IN THE MODEL"
   ]
  },
  {
   "cell_type": "code",
   "execution_count": 6,
   "metadata": {},
   "outputs": [],
   "source": [
    "# Save input data in a dataframe -> ActPow and date as index\n",
    "\n",
    "X = V52_data[['ActPow']]\n",
    "y = V52_data[['ActPow']]\n",
    "\n",
    "# In this case X and y has the same colum as it is univariate model"
   ]
  },
  {
   "cell_type": "markdown",
   "metadata": {},
   "source": [
    "### Define length of the input and output intervals within the sequences"
   ]
  },
  {
   "cell_type": "code",
   "execution_count": 7,
   "metadata": {},
   "outputs": [],
   "source": [
    "n_lag = 6  # number of previous time steps to use for training, a.k.a. time-lag\n",
    "n_out = 1  # forecast hoizon: number of next time steps we will predict 1 = the next 10-min mean"
   ]
  },
  {
   "cell_type": "markdown",
   "metadata": {},
   "source": [
    "### Sequence creation"
   ]
  },
  {
   "cell_type": "code",
   "execution_count": 8,
   "metadata": {},
   "outputs": [],
   "source": [
    "### Split data into train & test \n",
    "train_int = int(0.6*len(X))      # 60% of the data length for training\n",
    "validation_int = int(0.8*len(X)) # 20% more for validation\n",
    "\n",
    "# training input vector\n",
    "X_train = X[:train_int]\n",
    "X_train = forecast_sequences_input(X_train, n_lag)\n",
    "\n",
    "# training output vector\n",
    "Y_train = y[:train_int]\n",
    "Y_train = forecast_sequences_output(Y_train, n_out)\n",
    "\n",
    "# validation input vector\n",
    "X_validation = X[train_int:validation_int]\n",
    "X_validation = forecast_sequences_input(X_validation, n_lag)\n",
    "\n",
    "# validation output vector\n",
    "Y_validation = V52_data[['ActPow']][train_int:validation_int]\n",
    "Y_validation = forecast_sequences_output(Y_validation, n_out)\n",
    "\n",
    "# test input vector\n",
    "X_test = V52_data[['ActPow']][validation_int:]\n",
    "X_test = forecast_sequences_input(X_test, n_lag)\n",
    "\n",
    "# test output vector\n",
    "Y_test = V52_data[['ActPow']][validation_int:]\n",
    "Y_test = forecast_sequences_output(Y_test, n_out)"
   ]
  },
  {
   "cell_type": "markdown",
   "metadata": {},
   "source": [
    "### Drop NaN Raws\n",
    "      As now the sequences has beeen created, each row has already the  last values."
   ]
  },
  {
   "cell_type": "code",
   "execution_count": 9,
   "metadata": {},
   "outputs": [],
   "source": [
    "# Find when there is a nan in the y-data and remove it from it. Also reºmove the same rows from the X-data which will be one more\n",
    "\n",
    "Y_train = Y_train.dropna()\n",
    "train_index = Y_train.index\n",
    "X_train = X_train.loc[train_index ]\n",
    "\n",
    "Y_validation = Y_validation.dropna()\n",
    "validation_index = Y_validation.index\n",
    "X_validation = X_validation.loc[validation_index]\n",
    "\n",
    "Y_test = Y_test.dropna()\n",
    "test_index = Y_test.index\n",
    "X_test = X_test.loc[test_index]"
   ]
  },
  {
   "cell_type": "code",
   "execution_count": 10,
   "metadata": {},
   "outputs": [
    {
     "name": "stdout",
     "output_type": "stream",
     "text": [
      "X_train shape: (22010, 6)\n",
      "X_validation shape: (8169, 6)\n",
      "X_test shape: (6889, 6)\n"
     ]
    }
   ],
   "source": [
    "print(\"X_train shape:\", X_train.shape)\n",
    "print(\"X_validation shape:\", X_validation.shape)\n",
    "print(\"X_test shape:\", X_test.shape)"
   ]
  },
  {
   "cell_type": "markdown",
   "metadata": {},
   "source": [
    "### Scale the data"
   ]
  },
  {
   "cell_type": "code",
   "execution_count": 11,
   "metadata": {},
   "outputs": [
    {
     "name": "stdout",
     "output_type": "stream",
     "text": [
      "Training input (samples, timesteps): (22010, 6)\n",
      "Training output (samples, timesteps): (22010, 1)\n",
      "Validation input (samples, timesteps): (8169, 6)\n",
      "Validation output (samples, timesteps): (8169, 1)\n"
     ]
    }
   ],
   "source": [
    "from sklearn.preprocessing import MinMaxScaler\n",
    "### scale the dataset\n",
    "scalerx = MinMaxScaler(feature_range=(0, 1))\n",
    "scalery = MinMaxScaler(feature_range=(0, 1))\n",
    "\n",
    "X_train_scaled = scalerx.fit_transform(X_train)\n",
    "X_validation_scaled = scalerx.transform(X_validation)\n",
    "X_test_scaled = scalerx.transform(X_test)\n",
    "\n",
    "Y_train_scaled = scalery.fit_transform(Y_train)\n",
    "Y_validation_scaled = scalery.transform(Y_validation)\n",
    "Y_test_scaled = scalery.transform(Y_test)\n",
    "\n",
    "print('Training input (samples, timesteps):', X_train_scaled.shape)\n",
    "print('Training output (samples, timesteps):', Y_train.shape)\n",
    "print('Validation input (samples, timesteps):', X_validation_scaled.shape)\n",
    "print('Validation output (samples, timesteps):', Y_validation.shape)\n"
   ]
  },
  {
   "cell_type": "markdown",
   "metadata": {},
   "source": [
    "### Pad NaNs for missing periods with a significant number (to be 'masked' for the training later)"
   ]
  },
  {
   "cell_type": "code",
   "execution_count": 12,
   "metadata": {},
   "outputs": [],
   "source": [
    "pad_value = 999\n",
    "\n",
    "X_train_scaled[np.isnan(X_train_scaled)] = pad_value\n",
    "X_validation_scaled[np.isnan(X_validation_scaled)] = pad_value\n",
    "X_test_scaled[np.isnan(X_test_scaled)] = pad_value"
   ]
  },
  {
   "cell_type": "code",
   "execution_count": 13,
   "metadata": {},
   "outputs": [
    {
     "data": {
      "text/plain": [
       "(22010, 6)"
      ]
     },
     "execution_count": 13,
     "metadata": {},
     "output_type": "execute_result"
    }
   ],
   "source": [
    "X_train_scaled.shape"
   ]
  },
  {
   "cell_type": "code",
   "execution_count": 14,
   "metadata": {},
   "outputs": [
    {
     "data": {
      "text/plain": [
       "(22010, 1)"
      ]
     },
     "execution_count": 14,
     "metadata": {},
     "output_type": "execute_result"
    }
   ],
   "source": [
    "Y_train_scaled.shape"
   ]
  },
  {
   "cell_type": "markdown",
   "metadata": {},
   "source": [
    "## 3) LSTM architecture"
   ]
  },
  {
   "cell_type": "code",
   "execution_count": 15,
   "metadata": {},
   "outputs": [],
   "source": [
    "from tensorflow.keras.layers import LSTM, Masking\n",
    "\n",
    "# for multiple model creation - clear  the previous DAG\n",
    "K.clear_session() \n",
    "\n",
    "### Input reshape for LSTM problem  [samples, timesteps, features]\n",
    "no_features = 1 # Avg and Std of wind speed\n",
    "\n",
    "train_X = X_train_scaled.reshape((X_train_scaled.shape[0], n_lag, no_features)).astype('float32')\n",
    "train_Y = Y_train.values.astype('float32')\n",
    "\n",
    "validation_X = X_validation_scaled.reshape((X_validation_scaled.shape[0], n_lag, no_features)).astype('float32')\n",
    "validation_Y = Y_validation.values.astype('float32')\n",
    "\n",
    "test_X = X_test_scaled.reshape((X_test_scaled.shape[0], n_lag, no_features)).astype('float32')\n",
    "test_Y = Y_test.values.astype('float32')"
   ]
  },
  {
   "cell_type": "code",
   "execution_count": 16,
   "metadata": {},
   "outputs": [
    {
     "name": "stdout",
     "output_type": "stream",
     "text": [
      "Model: \"sequential\"\n",
      "_________________________________________________________________\n",
      " Layer (type)                Output Shape              Param #   \n",
      "=================================================================\n",
      " masking (Masking)           (None, None, 1)           0         \n",
      "                                                                 \n",
      " lstm (LSTM)                 (None, None, 50)          10400     \n",
      "                                                                 \n",
      " activation (Activation)     (None, None, 50)          0         \n",
      "                                                                 \n",
      " lstm_1 (LSTM)               (None, 10)                2440      \n",
      "                                                                 \n",
      " dense (Dense)               (None, 1)                 11        \n",
      "                                                                 \n",
      "=================================================================\n",
      "Total params: 12851 (50.20 KB)\n",
      "Trainable params: 12851 (50.20 KB)\n",
      "Non-trainable params: 0 (0.00 Byte)\n",
      "_________________________________________________________________\n",
      "Epoch 1/30\n",
      "23/23 [==============================] - 13s 165ms/step - loss: 82510.5078 - val_loss: 70664.2109\n",
      "Epoch 2/30\n",
      "23/23 [==============================] - 2s 72ms/step - loss: 82263.7500 - val_loss: 70492.8281\n",
      "Epoch 3/30\n",
      "23/23 [==============================] - 1s 46ms/step - loss: 82193.8906 - val_loss: 70489.2031\n",
      "Epoch 4/30\n",
      "23/23 [==============================] - 1s 49ms/step - loss: 82192.7734 - val_loss: 70488.9688\n",
      "Epoch 5/30\n",
      "23/23 [==============================] - 1s 57ms/step - loss: 82192.6250 - val_loss: 70488.8750\n",
      "Epoch 6/30\n",
      "23/23 [==============================] - 1s 35ms/step - loss: 82192.5547 - val_loss: 70488.8281\n",
      "Epoch 7/30\n",
      "23/23 [==============================] - 1s 33ms/step - loss: 82192.4922 - val_loss: 70488.7812\n",
      "Epoch 8/30\n",
      "23/23 [==============================] - 1s 45ms/step - loss: 82192.4609 - val_loss: 70488.7344\n",
      "Epoch 9/30\n",
      "23/23 [==============================] - 1s 39ms/step - loss: 82192.4297 - val_loss: 70488.7109\n",
      "Epoch 10/30\n",
      "23/23 [==============================] - 1s 41ms/step - loss: 82192.3906 - val_loss: 70488.6797\n",
      "Epoch 11/30\n",
      "23/23 [==============================] - 1s 53ms/step - loss: 82192.3672 - val_loss: 70488.6484\n",
      "Epoch 12/30\n",
      "23/23 [==============================] - 1s 51ms/step - loss: 82192.3438 - val_loss: 70488.6328\n",
      "Epoch 13/30\n",
      "23/23 [==============================] - 1s 36ms/step - loss: 82192.3359 - val_loss: 70488.6172\n",
      "Epoch 14/30\n",
      "23/23 [==============================] - 1s 33ms/step - loss: 82192.3047 - val_loss: 70488.5938\n",
      "Epoch 15/30\n",
      "23/23 [==============================] - 1s 40ms/step - loss: 82192.2969 - val_loss: 70488.5781\n",
      "Epoch 16/30\n",
      "23/23 [==============================] - 1s 52ms/step - loss: 82192.2656 - val_loss: 70488.5625\n",
      "Epoch 17/30\n",
      "23/23 [==============================] - 1s 40ms/step - loss: 82192.2500 - val_loss: 70488.5469\n",
      "Epoch 18/30\n",
      "23/23 [==============================] - 1s 37ms/step - loss: 82192.2422 - val_loss: 70488.5391\n",
      "Epoch 19/30\n",
      "23/23 [==============================] - 1s 51ms/step - loss: 82192.2578 - val_loss: 70488.5156\n",
      "Epoch 20/30\n",
      "23/23 [==============================] - 1s 40ms/step - loss: 82192.2109 - val_loss: 70488.5000\n",
      "Epoch 21/30\n",
      "23/23 [==============================] - 1s 36ms/step - loss: 82192.1953 - val_loss: 70488.4922\n",
      "Epoch 22/30\n",
      "23/23 [==============================] - 1s 36ms/step - loss: 82192.1953 - val_loss: 70488.4844\n",
      "Epoch 23/30\n",
      "23/23 [==============================] - 1s 47ms/step - loss: 82192.1797 - val_loss: 70488.4688\n",
      "Epoch 24/30\n",
      "23/23 [==============================] - 1s 47ms/step - loss: 82192.1797 - val_loss: 70488.4609\n",
      "Epoch 25/30\n",
      "23/23 [==============================] - 1s 47ms/step - loss: 82192.1562 - val_loss: 70488.4375\n",
      "Epoch 26/30\n",
      "23/23 [==============================] - 1s 47ms/step - loss: 82192.1406 - val_loss: 70488.4219\n",
      "Epoch 27/30\n",
      "23/23 [==============================] - 1s 49ms/step - loss: 82192.1250 - val_loss: 70488.4141\n",
      "Epoch 28/30\n",
      "23/23 [==============================] - 1s 39ms/step - loss: 82192.1328 - val_loss: 70488.4062\n",
      "Epoch 29/30\n",
      "23/23 [==============================] - 1s 36ms/step - loss: 82192.1172 - val_loss: 70488.3984\n",
      "Epoch 30/30\n",
      "23/23 [==============================] - 1s 47ms/step - loss: 82192.1016 - val_loss: 70488.3906\n"
     ]
    }
   ],
   "source": [
    "### create model\n",
    "model = Sequential()\n",
    "\n",
    "# Masking layer (for the pad_value)\n",
    "model.add(Masking(mask_value=pad_value, input_shape=(None, no_features)))\n",
    "\n",
    "\n",
    "# First LSTM layer\n",
    "model.add(LSTM(50, \n",
    "               return_sequences=True,  # important to add it to ensure the following LSTM layers will have the same input shape\n",
    "               input_shape=(train_X.shape[1], train_X.shape[2]),                \n",
    "               kernel_initializer='random_uniform',\n",
    "               bias_initializer='zeros'))\n",
    "               \n",
    "# then we add the activation\n",
    "model.add(Activation('tanh'))\n",
    "\n",
    "# Second LSTM layer\n",
    "model.add(LSTM(10, activation='tanh'))\n",
    "\n",
    "# Output Layer\n",
    "model.add(Dense(1, activation='tanh'))\n",
    "model.summary()\n",
    "\n",
    "# compile the model\n",
    "model.compile(loss='mean_squared_error', optimizer='adam')\n",
    "# fit the model and store the graphs and performance to be used in TensorBoard (optional)\n",
    "now = datetime.datetime.now().strftime(\"%Y%m%d%H%M\")\n",
    "\n",
    "tbGraph = TensorBoard(log_dir=f'.\\Graph\\{now}',\n",
    "                      histogram_freq=64*2, write_graph=True, write_images=True)\n",
    "\n",
    "history = model.fit(train_X, train_Y, \n",
    "          epochs=30,\n",
    "          batch_size=1000,\n",
    "          validation_data=(validation_X, validation_Y),\n",
    "          callbacks=[tbGraph])\n",
    "\n"
   ]
  },
  {
   "cell_type": "code",
   "execution_count": 17,
   "metadata": {},
   "outputs": [
    {
     "data": {
      "text/plain": [
       "<matplotlib.legend.Legend at 0x19d998db690>"
      ]
     },
     "execution_count": 17,
     "metadata": {},
     "output_type": "execute_result"
    },
    {
     "data": {
      "image/png": "[encoded data removed]",
      "text/plain": [
       "<Figure size 640x480 with 1 Axes>"
      ]
     },
     "metadata": {},
     "output_type": "display_data"
    }
   ],
   "source": [
    "# plot the lost\n",
    "plt.plot(history.history['loss'], label='train')\n",
    "plt.plot(history.history['val_loss'], label='validation')\n",
    "\n",
    "plt.legend()"
   ]
  },
  {
   "cell_type": "code",
   "execution_count": 18,
   "metadata": {},
   "outputs": [
    {
     "data": {
      "text/html": [
       "<style>#sk-container-id-1 {color: black;background-color: white;}#sk-container-id-1 pre{padding: 0;}#sk-container-id-1 div.sk-toggleable {background-color: white;}#sk-container-id-1 label.sk-toggleable__label {cursor: pointer;display: block;width: 100%;margin-bottom: 0;padding: 0.3em;box-sizing: border-box;text-align: center;}#sk-container-id-1 label.sk-toggleable__label-arrow:before {content: \"▸\";float: left;margin-right: 0.25em;color: #696969;}#sk-container-id-1 label.sk-toggleable__label-arrow:hover:before {color: black;}#sk-container-id-1 div.sk-estimator:hover label.sk-toggleable__label-arrow:before {color: black;}#sk-container-id-1 div.sk-toggleable__content {max-height: 0;max-width: 0;overflow: hidden;text-align: left;background-color: #f0f8ff;}#sk-container-id-1 div.sk-toggleable__content pre {margin: 0.2em;color: black;border-radius: 0.25em;background-color: #f0f8ff;}#sk-container-id-1 input.sk-toggleable__control:checked~div.sk-toggleable__content {max-height: 200px;max-width: 100%;overflow: auto;}#sk-container-id-1 input.sk-toggleable__control:checked~label.sk-toggleable__label-arrow:before {content: \"▾\";}#sk-container-id-1 div.sk-estimator input.sk-toggleable__control:checked~label.sk-toggleable__label {background-color: #d4ebff;}#sk-container-id-1 div.sk-label input.sk-toggleable__control:checked~label.sk-toggleable__label {background-color: #d4ebff;}#sk-container-id-1 input.sk-hidden--visually {border: 0;clip: rect(1px 1px 1px 1px);clip: rect(1px, 1px, 1px, 1px);height: 1px;margin: -1px;overflow: hidden;padding: 0;position: absolute;width: 1px;}#sk-container-id-1 div.sk-estimator {font-family: monospace;background-color: #f0f8ff;border: 1px dotted black;border-radius: 0.25em;box-sizing: border-box;margin-bottom: 0.5em;}#sk-container-id-1 div.sk-estimator:hover {background-color: #d4ebff;}#sk-container-id-1 div.sk-parallel-item::after {content: \"\";width: 100%;border-bottom: 1px solid gray;flex-grow: 1;}#sk-container-id-1 div.sk-label:hover label.sk-toggleable__label {background-color: #d4ebff;}#sk-container-id-1 div.sk-serial::before {content: \"\";position: absolute;border-left: 1px solid gray;box-sizing: border-box;top: 0;bottom: 0;left: 50%;z-index: 0;}#sk-container-id-1 div.sk-serial {display: flex;flex-direction: column;align-items: center;background-color: white;padding-right: 0.2em;padding-left: 0.2em;position: relative;}#sk-container-id-1 div.sk-item {position: relative;z-index: 1;}#sk-container-id-1 div.sk-parallel {display: flex;align-items: stretch;justify-content: center;background-color: white;position: relative;}#sk-container-id-1 div.sk-item::before, #sk-container-id-1 div.sk-parallel-item::before {content: \"\";position: absolute;border-left: 1px solid gray;box-sizing: border-box;top: 0;bottom: 0;left: 50%;z-index: -1;}#sk-container-id-1 div.sk-parallel-item {display: flex;flex-direction: column;z-index: 1;position: relative;background-color: white;}#sk-container-id-1 div.sk-parallel-item:first-child::after {align-self: flex-end;width: 50%;}#sk-container-id-1 div.sk-parallel-item:last-child::after {align-self: flex-start;width: 50%;}#sk-container-id-1 div.sk-parallel-item:only-child::after {width: 0;}#sk-container-id-1 div.sk-dashed-wrapped {border: 1px dashed gray;margin: 0 0.4em 0.5em 0.4em;box-sizing: border-box;padding-bottom: 0.4em;background-color: white;}#sk-container-id-1 div.sk-label label {font-family: monospace;font-weight: bold;display: inline-block;line-height: 1.2em;}#sk-container-id-1 div.sk-label-container {text-align: center;}#sk-container-id-1 div.sk-container {/* jupyter's `normalize.less` sets `[hidden] { display: none; }` but bootstrap.min.css set `[hidden] { display: none !important; }` so we also need the `!important` here to be able to override the default hidden behavior on the sphinx rendered scikit-learn.org. See: https://github.com/scikit-learn/scikit-learn/issues/21755 */display: inline-block !important;position: relative;}#sk-container-id-1 div.sk-text-repr-fallback {display: none;}</style><div id=\"sk-container-id-1\" class=\"sk-top-container\"><div class=\"sk-text-repr-fallback\"><pre>MinMaxScaler()</pre><b>In a Jupyter environment, please rerun this cell to show the HTML representation or trust the notebook. <br />On GitHub, the HTML representation is unable to render, please try loading this page with nbviewer.org.</b></div><div class=\"sk-container\" hidden><div class=\"sk-item\"><div class=\"sk-estimator sk-toggleable\"><input class=\"sk-toggleable__control sk-hidden--visually\" id=\"sk-estimator-id-1\" type=\"checkbox\" checked><label for=\"sk-estimator-id-1\" class=\"sk-toggleable__label sk-toggleable__label-arrow\">MinMaxScaler</label><div class=\"sk-toggleable__content\"><pre>MinMaxScaler()</pre></div></div></div></div></div>"
      ],
      "text/plain": [
       "MinMaxScaler()"
      ]
     },
     "execution_count": 18,
     "metadata": {},
     "output_type": "execute_result"
    }
   ],
   "source": [
    "# Fit a new scaler on the single feature you're predicting\n",
    "scaler_single = MinMaxScaler()\n",
    "scaler_single.fit(train_Y.reshape(-1, 1))  # Reshape to 2D array"
   ]
  },
  {
   "cell_type": "code",
   "execution_count": 19,
   "metadata": {},
   "outputs": [
    {
     "name": "stdout",
     "output_type": "stream",
     "text": [
      "216/216 [==============================] - 4s 3ms/step\n"
     ]
    }
   ],
   "source": [
    "# Make predictions and plot them against the actual values\n",
    "predictions = model.predict(test_X)\n",
    "\n",
    "#predictions = scalery.inverse_transform(predictions)\n",
    "predictions = scaler_single.inverse_transform(predictions)\n",
    "\n",
    "test_Y = scalery.inverse_transform(test_Y)\n"
   ]
  },
  {
   "cell_type": "code",
   "execution_count": 20,
   "metadata": {},
   "outputs": [
    {
     "data": {
      "text/plain": [
       "array([[ 41230.62],\n",
       "       [ 34569.49],\n",
       "       [ 42170.08],\n",
       "       ...,\n",
       "       [544621.7 ],\n",
       "       [471753.3 ],\n",
       "       [436433.9 ]], dtype=float32)"
      ]
     },
     "execution_count": 20,
     "metadata": {},
     "output_type": "execute_result"
    }
   ],
   "source": [
    "\n",
    "test_Y"
   ]
  },
  {
   "cell_type": "code",
   "execution_count": 21,
   "metadata": {},
   "outputs": [
    {
     "name": "stdout",
     "output_type": "stream",
     "text": [
      "861.4116821289062\n"
     ]
    },
    {
     "data": {
      "text/plain": [
       "array([[ 45.869995],\n",
       "       [191.23862 ],\n",
       "       [461.9634  ],\n",
       "       ...,\n",
       "       [861.41113 ],\n",
       "       [861.41125 ],\n",
       "       [861.4114  ]], dtype=float32)"
      ]
     },
     "execution_count": 21,
     "metadata": {},
     "output_type": "execute_result"
    }
   ],
   "source": [
    "from scipy import stats\n",
    "mode = stats.mode(predictions)\n",
    "print(mode.mode[0])\n",
    "predictions[predictions == mode.mode[0]] = np.nan\n",
    "predictions"
   ]
  },
  {
   "cell_type": "code",
   "execution_count": 22,
   "metadata": {},
   "outputs": [
    {
     "data": {
      "text/plain": [
       "<matplotlib.legend.Legend at 0x19d9c9f3690>"
      ]
     },
     "execution_count": 22,
     "metadata": {},
     "output_type": "execute_result"
    },
    {
     "data": {
      "image/png": "[encoded data removed]",
      "text/plain": [
       "<Figure size 1000x800 with 1 Axes>"
      ]
     },
     "metadata": {},
     "output_type": "display_data"
    }
   ],
   "source": [
    "\n",
    "# plot the predictions\n",
    "plt.figure(figsize=(10,8))\n",
    "\n",
    "plt.plot(test_Y[:144,-1], 'k', label='actual', linewidth=2)\n",
    "plt.plot(predictions[:144],'-r', label='predictions', linewidth=2)\n",
    "plt.grid(True)\n",
    "\n",
    "plt.title('Predictions vs Actual Values', fontsize=20)\n",
    "plt.xlabel('Time', fontsize=16)\n",
    "plt.ylabel('Power', fontsize=16)\n",
    "\n",
    "plt.legend()"
   ]
  }
 ],
 "metadata": {
  "kernelspec": {
   "display_name": "Python 3",
   "language": "python",
   "name": "python3"
  },
  "language_info": {
   "codemirror_mode": {
    "name": "ipython",
    "version": 3
   },
   "file_extension": ".py",
   "mimetype": "text/x-python",
   "name": "python",
   "nbconvert_exporter": "python",
   "pygments_lexer": "ipython3",
   "version": "3.11.5"
  }
 },
 "nbformat": 4,
 "nbformat_minor": 2
}
