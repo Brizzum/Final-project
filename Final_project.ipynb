{
 "cells": [
  {
   "cell_type": "code",
   "execution_count": 10,
   "metadata": {},
   "outputs": [],
   "source": [
    "import numpy as np\n",
    "import pandas as pd\n",
    "import matplotlib.pyplot as plt\n",
    "import plotly.express as px\n",
    "import datetime\n",
    "import seaborn as sns"
   ]
  },
  {
   "cell_type": "code",
   "execution_count": 13,
   "metadata": {},
   "outputs": [
    {
     "name": "stdout",
     "output_type": "stream",
     "text": [
      "            Wsp_44m      Wdir_41m        ActPow         RePow    ActPow_std  \\\n",
      "count  35486.000000  35486.000000  35486.000000  35486.000000  35486.000000   \n",
      "mean       6.376317    194.864858    199.143191      0.087797     51.864936   \n",
      "std        2.589576     85.705501    219.936125      0.374143     48.046229   \n",
      "min        0.539690      0.001286      0.000000     -4.625150      0.000000   \n",
      "25%        4.595077    129.248500     47.158825     -0.001487     18.306925   \n",
      "50%        5.840555    201.874000    112.923500     -0.000277     35.364950   \n",
      "75%        7.668212    265.377500    266.188000      0.001519     73.348475   \n",
      "max       19.720000    359.997000    867.900000      7.717470    408.458000   \n",
      "\n",
      "        Wsp_44m_std  Wdir_41m_std     stability            TI          Hour  \n",
      "count  3.548600e+04  35486.000000  35486.000000  3.548600e+04  52241.000000  \n",
      "mean   9.513661e-01      8.380105      0.534718  1.514574e-01     11.499014  \n",
      "std    5.067565e-01      4.180382      0.498800  5.909185e-02      6.924437  \n",
      "min    4.129530e-07      0.000128      0.000000  7.651670e-07      0.000000  \n",
      "25%    5.934750e-01      5.764972      0.000000  1.105542e-01      5.000000  \n",
      "50%    8.470870e-01      7.414105      1.000000  1.439952e-01     11.000000  \n",
      "75%    1.203265e+00      9.541073      1.000000  1.828086e-01     18.000000  \n",
      "max    4.028130e+00     53.438500      1.000000  6.178026e-01     23.000000  \n"
     ]
    }
   ],
   "source": [
    "V52_data = pd.read_csv('V52_data.csv', parse_dates=['Date'])\n",
    "V52_data = V52_data.set_index('Date')\n",
    "\n",
    "# SUM all nan in the first column\n",
    "#print('Total number of missing values in the first column: ', V52_data.iloc[:,0].isnull().sum())\n",
    "# describe the data\n",
    "print(V52_data.describe())"
   ]
  }
 ],
 "metadata": {
  "kernelspec": {
   "display_name": "Python 3",
   "language": "python",
   "name": "python3"
  },
  "language_info": {
   "codemirror_mode": {
    "name": "ipython",
    "version": 3
   },
   "file_extension": ".py",
   "mimetype": "text/x-python",
   "name": "python",
   "nbconvert_exporter": "python",
   "pygments_lexer": "ipython3",
   "version": "3.10.6"
  }
 },
 "nbformat": 4,
 "nbformat_minor": 2
}
