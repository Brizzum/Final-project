{
 "cells": [
  {
   "cell_type": "code",
   "execution_count": 5,
   "metadata": {},
   "outputs": [],
   "source": [
    "import numpy as np\n",
    "import pandas as pd\n",
    "import matplotlib.pyplot as plt\n",
    "import datetime\n",
    "import seaborn as sns\n",
    "\n",
    "plt.rcParams['mathtext.fontset'] = 'stix'\n",
    "plt.rcParams['font.family'] = 'STIXGeneral'"
   ]
  },
  {
   "cell_type": "code",
   "execution_count": 6,
   "metadata": {},
   "outputs": [],
   "source": [
    "import tensorflow as tf\n",
    "from tensorflow.keras.models import Sequential\n",
    "from tensorflow.keras.layers import Dense\n",
    "import tensorflow.keras.backend as K\n",
    "# Use Tensorboard for network visualization & debugging\n",
    "from tensorflow.keras.callbacks import TensorBoard\n",
    "import sklearn.metrics\n",
    "# import regularizer(s)\n",
    "from tensorflow.keras.regularizers import l1, l2, l1_l2\n",
    "# import Dropout\n",
    "from tensorflow.keras.layers import Dropout\n",
    "# import activation seperately\n",
    "from tensorflow.keras.layers import Activation"
   ]
  },
  {
   "cell_type": "code",
   "execution_count": 7,
   "metadata": {},
   "outputs": [],
   "source": [
    "import warnings\n",
    "\n",
    "#ignore future warnings\n",
    "warnings.simplefilter(action='ignore', category=FutureWarning)"
   ]
  },
  {
   "cell_type": "code",
   "execution_count": 8,
   "metadata": {},
   "outputs": [],
   "source": [
    "V52_data = pd.read_csv('V52_data_process.csv')\n",
    "# make Date the index in datetime format\n",
    "V52_data.index = pd.to_datetime(V52_data['Date'], format='%Y%m%d%H%M')"
   ]
  },
  {
   "cell_type": "code",
   "execution_count": 9,
   "metadata": {},
   "outputs": [
    {
     "data": {
      "text/html": [
       "<div>\n",
       "<style scoped>\n",
       "    .dataframe tbody tr th:only-of-type {\n",
       "        vertical-align: middle;\n",
       "    }\n",
       "\n",
       "    .dataframe tbody tr th {\n",
       "        vertical-align: top;\n",
       "    }\n",
       "\n",
       "    .dataframe thead th {\n",
       "        text-align: right;\n",
       "    }\n",
       "</style>\n",
       "<table border=\"1\" class=\"dataframe\">\n",
       "  <thead>\n",
       "    <tr style=\"text-align: right;\">\n",
       "      <th></th>\n",
       "      <th>Date</th>\n",
       "      <th>Wsp_44m</th>\n",
       "      <th>Wdir_41m</th>\n",
       "      <th>ActPow</th>\n",
       "      <th>RePow</th>\n",
       "      <th>ActPow_std</th>\n",
       "      <th>Wsp_44m_std</th>\n",
       "      <th>Wdir_41m_std</th>\n",
       "      <th>stability</th>\n",
       "      <th>TI</th>\n",
       "    </tr>\n",
       "  </thead>\n",
       "  <tbody>\n",
       "    <tr>\n",
       "      <th>count</th>\n",
       "      <td>3.498800e+04</td>\n",
       "      <td>34988.000000</td>\n",
       "      <td>34988.000000</td>\n",
       "      <td>34988.000000</td>\n",
       "      <td>34988.000000</td>\n",
       "      <td>34988.000000</td>\n",
       "      <td>34988.000000</td>\n",
       "      <td>34988.000000</td>\n",
       "      <td>34988.000000</td>\n",
       "      <td>3.498800e+04</td>\n",
       "    </tr>\n",
       "    <tr>\n",
       "      <th>mean</th>\n",
       "      <td>2.018065e+11</td>\n",
       "      <td>6.354286</td>\n",
       "      <td>189.780100</td>\n",
       "      <td>205.245538</td>\n",
       "      <td>-0.013029</td>\n",
       "      <td>55.120864</td>\n",
       "      <td>0.954807</td>\n",
       "      <td>8.506101</td>\n",
       "      <td>0.522493</td>\n",
       "      <td>1.530377e-01</td>\n",
       "    </tr>\n",
       "    <tr>\n",
       "      <th>std</th>\n",
       "      <td>3.670810e+06</td>\n",
       "      <td>2.609273</td>\n",
       "      <td>83.434030</td>\n",
       "      <td>218.822414</td>\n",
       "      <td>0.416315</td>\n",
       "      <td>47.265700</td>\n",
       "      <td>0.509521</td>\n",
       "      <td>4.319307</td>\n",
       "      <td>0.499501</td>\n",
       "      <td>6.035708e-02</td>\n",
       "    </tr>\n",
       "    <tr>\n",
       "      <th>min</th>\n",
       "      <td>2.018010e+11</td>\n",
       "      <td>0.670041</td>\n",
       "      <td>0.005575</td>\n",
       "      <td>1.052640</td>\n",
       "      <td>-4.625150</td>\n",
       "      <td>0.000000</td>\n",
       "      <td>0.000009</td>\n",
       "      <td>0.000058</td>\n",
       "      <td>0.000000</td>\n",
       "      <td>6.331859e-07</td>\n",
       "    </tr>\n",
       "    <tr>\n",
       "      <th>25%</th>\n",
       "      <td>2.018032e+11</td>\n",
       "      <td>4.487427</td>\n",
       "      <td>126.854500</td>\n",
       "      <td>51.223725</td>\n",
       "      <td>-0.001893</td>\n",
       "      <td>21.796800</td>\n",
       "      <td>0.589064</td>\n",
       "      <td>5.805775</td>\n",
       "      <td>0.000000</td>\n",
       "      <td>1.116147e-01</td>\n",
       "    </tr>\n",
       "    <tr>\n",
       "      <th>50%</th>\n",
       "      <td>2.018062e+11</td>\n",
       "      <td>5.784085</td>\n",
       "      <td>193.772500</td>\n",
       "      <td>116.968500</td>\n",
       "      <td>-0.000603</td>\n",
       "      <td>37.115550</td>\n",
       "      <td>0.847431</td>\n",
       "      <td>7.484410</td>\n",
       "      <td>1.000000</td>\n",
       "      <td>1.456005e-01</td>\n",
       "    </tr>\n",
       "    <tr>\n",
       "      <th>75%</th>\n",
       "      <td>2.018100e+11</td>\n",
       "      <td>7.675152</td>\n",
       "      <td>256.786000</td>\n",
       "      <td>272.340250</td>\n",
       "      <td>0.000723</td>\n",
       "      <td>75.372775</td>\n",
       "      <td>1.208897</td>\n",
       "      <td>9.709680</td>\n",
       "      <td>1.000000</td>\n",
       "      <td>1.849192e-01</td>\n",
       "    </tr>\n",
       "    <tr>\n",
       "      <th>max</th>\n",
       "      <td>2.019010e+11</td>\n",
       "      <td>19.720000</td>\n",
       "      <td>359.997000</td>\n",
       "      <td>867.900000</td>\n",
       "      <td>7.717470</td>\n",
       "      <td>408.458000</td>\n",
       "      <td>4.028130</td>\n",
       "      <td>57.038000</td>\n",
       "      <td>1.000000</td>\n",
       "      <td>7.742675e-01</td>\n",
       "    </tr>\n",
       "  </tbody>\n",
       "</table>\n",
       "</div>"
      ],
      "text/plain": [
       "               Date       Wsp_44m      Wdir_41m        ActPow         RePow  \\\n",
       "count  3.498800e+04  34988.000000  34988.000000  34988.000000  34988.000000   \n",
       "mean   2.018065e+11      6.354286    189.780100    205.245538     -0.013029   \n",
       "std    3.670810e+06      2.609273     83.434030    218.822414      0.416315   \n",
       "min    2.018010e+11      0.670041      0.005575      1.052640     -4.625150   \n",
       "25%    2.018032e+11      4.487427    126.854500     51.223725     -0.001893   \n",
       "50%    2.018062e+11      5.784085    193.772500    116.968500     -0.000603   \n",
       "75%    2.018100e+11      7.675152    256.786000    272.340250      0.000723   \n",
       "max    2.019010e+11     19.720000    359.997000    867.900000      7.717470   \n",
       "\n",
       "         ActPow_std   Wsp_44m_std  Wdir_41m_std     stability            TI  \n",
       "count  34988.000000  34988.000000  34988.000000  34988.000000  3.498800e+04  \n",
       "mean      55.120864      0.954807      8.506101      0.522493  1.530377e-01  \n",
       "std       47.265700      0.509521      4.319307      0.499501  6.035708e-02  \n",
       "min        0.000000      0.000009      0.000058      0.000000  6.331859e-07  \n",
       "25%       21.796800      0.589064      5.805775      0.000000  1.116147e-01  \n",
       "50%       37.115550      0.847431      7.484410      1.000000  1.456005e-01  \n",
       "75%       75.372775      1.208897      9.709680      1.000000  1.849192e-01  \n",
       "max      408.458000      4.028130     57.038000      1.000000  7.742675e-01  "
      ]
     },
     "execution_count": 9,
     "metadata": {},
     "output_type": "execute_result"
    }
   ],
   "source": [
    "# put nans in the rows where ActPow has a nan\n",
    "V52_data.loc[V52_data['ActPow'].isna(), :] = np.nan\n",
    "V52_data.loc[V52_data['Wsp_44m'].isna(), :] = np.nan\n",
    "\n",
    "V52_data.describe()"
   ]
  },
  {
   "cell_type": "markdown",
   "metadata": {},
   "source": [
    "## With a continous data set we can begin a LSTM model"
   ]
  },
  {
   "cell_type": "markdown",
   "metadata": {},
   "source": [
    "## Additional info on the time series processing - things to watch out!\n",
    "1. **Non-stationary data** \n",
    "<br>‘Stationarity’ is one of the most important concepts you will come across when working with time series data. A stationary series is one in which the properties – mean, variance and covariance, **do not** vary with time.\n",
    "<br>  Always keep in mind that in order to use time series forecasting models, it is necessary to convert any non-stationary series to a stationary series first. There are mainly two ways to do this:\n",
    "     <br> 1.1 ***Differencing (one or multiple steps)***   $\\rightarrow y_{diff}=y_{t}-y_{t-n} $ Pandas diff can directly be used or you can use df.shift(n) to extract $y_{t-n}$ \n",
    "     <br> 1.2 ***Axis transformations*** $\\rightarrow$ e.g. log-transform can also help depending on your data. Also note that you can repeat the differencing several times until you reach the 'desired' stationarity.\n",
    "2. **Scaling**\n",
    "<br>As discussed (and demonstrated) above.\n",
    "3. **LSTM particular input shape**\n",
    "<br> Think thorough on samples, timesteps, features and what they represent for your data and problem at hand. In general, it goes as \"how many features you would like to feed into the model at a time (timesteps) and how many of those sequences do you have? Let's do an example for our forecasting problem at hand...\n",
    "3. **Inverse transform the output**\n",
    "<br> Different than 'just' a binary classification, the output of your model might have units and non-stationary structure as well. Remember to inverse transform of your model predictions to deliver the 'true value' of your outputs."
   ]
  },
  {
   "cell_type": "markdown",
   "metadata": {},
   "source": [
    "## Divide Time series into Sequences\n",
    "We will define 2 useful functions that will generate sequences of input + output intervals.\n",
    "\n",
    "* The input interval is based on how much further back you would like to add to the memory\n",
    "* The output interval depends on the forecast horizon for your problem\n",
    "\n",
    "\n",
    "The input interval is one of the *hyperparameters* to tune. We can start with an initial guess and adjust it to see if we can get a performance increase."
   ]
  },
  {
   "cell_type": "code",
   "execution_count": 10,
   "metadata": {},
   "outputs": [],
   "source": [
    "### define a function that will prepare the shifting input sequences for the network\n",
    "def forecast_sequences_input(input_data, n_lag):\n",
    "    \"\"\"\n",
    "    A function that will split the input time series to sequences for nowcast/forecast problems\n",
    "    Arguments:\n",
    "        input_data: Time series of input observations as a list, NumPy array or pandas series\n",
    "        n_lag: number of previous time steps to use for training, a.k.a. time-lag        \n",
    "    Returns:\n",
    "        Pandas DataFrame of series framed for supervised learning.\n",
    "    \"\"\"\n",
    "    n_vars = input_data.shape[1] \n",
    "    df = pd.DataFrame(input_data)\n",
    "    cols, names = list(), list()\n",
    "    # input sequence (t-n, ... t-1)\n",
    "    for i in range(n_lag, 0, -1):\n",
    "        cols.append(df.shift(i))\n",
    "        names += [('var%d(t-%d)' % (j+1, i)) for j in range(n_vars)]\n",
    "    # put it all together (aggregate)\n",
    "    agg = pd.concat(cols, axis=1)\n",
    "    agg.columns = names\n",
    "    return agg\n",
    "\n",
    "\n",
    "### define a function that will prepare the shifting output sequences of the network\n",
    "def forecast_sequences_output(output_data,n_out):\n",
    "    \"\"\"\n",
    "    A function that will split the output time series to sequences for nowcast/forecast problems\n",
    "    Arguments:\n",
    "        output_data: Time series of input observations as a list, NumPy array or pandas series\n",
    "        n_out: forecast horizon (for multi-output forecast)\n",
    "    Returns:\n",
    "        Pandas DataFrame of series framed for supervised learning.\n",
    "    \"\"\"\n",
    "    n_vars = output_data.shape[1] \n",
    "    df = pd.DataFrame(output_data)\n",
    "    cols, names = list(), list()\n",
    "    # forecast sequence (t, t+1, ... t+n)\n",
    "    for i in range(0, n_out):\n",
    "        cols.append(df.shift(-i))\n",
    "        if i == 0:\n",
    "            names += [('var%d(t)' % (j+1)) for j in range(n_vars)]\n",
    "        else:\n",
    "            names += [('var%d(t+%d)' % (j+1, i)) for j in range(n_vars)]\n",
    "    # put it all together (aggregate)\n",
    "    agg = pd.concat(cols, axis=1)\n",
    "    agg.columns = names    \n",
    "    return agg\n"
   ]
  },
  {
   "cell_type": "markdown",
   "metadata": {},
   "source": [
    "### Define length of the input and output intervals within the sequences"
   ]
  },
  {
   "cell_type": "code",
   "execution_count": 11,
   "metadata": {},
   "outputs": [],
   "source": [
    "n_lag = 6 # number of previous time steps to use for training, a.k.a. time-lag\n",
    "n_out = 1  # forecast hoizon: number of next time steps we will predict 1 = the next 10-min mean"
   ]
  },
  {
   "cell_type": "markdown",
   "metadata": {},
   "source": [
    "### Define training, validation and test data as before, let's use dataframes this time\n",
    "INPUTS:   \n",
    "   1. Power\n",
    "   2. std of power\n",
    "\n",
    "OUTPUT:\n",
    "   1. future power \n"
   ]
  },
  {
   "cell_type": "markdown",
   "metadata": {},
   "source": [
    "Sequence creation"
   ]
  },
  {
   "cell_type": "code",
   "execution_count": 12,
   "metadata": {},
   "outputs": [],
   "source": [
    "### Split data into train & test \n",
    "train_int = int(0.6*len(V52_data))      # 60% of the data length for training\n",
    "validation_int = int(0.8*len(V52_data)) # 20% more for validation\n",
    "\n",
    "# training input vector\n",
    "X_train = V52_data[['ActPow','ActPow_std','Wsp_44m', 'Wsp_44m_std']][:train_int]\n",
    "X_train = forecast_sequences_input(X_train ,n_lag)\n",
    "\n",
    "# training output vector\n",
    "Y_train = V52_data[['ActPow']][:train_int]\n",
    "Y_train = forecast_sequences_output(Y_train, n_out)\n",
    "\n",
    "# validation input vector\n",
    "X_validation = V52_data[['ActPow','ActPow_std','Wsp_44m', 'Wsp_44m_std']][train_int:validation_int]\n",
    "X_validation = forecast_sequences_input(X_validation,n_lag)\n",
    "\n",
    "# validation output vector\n",
    "Y_validation = V52_data[['ActPow']][train_int:validation_int]\n",
    "Y_validation = forecast_sequences_output(Y_validation, n_out)\n",
    "\n",
    "# test input vector\n",
    "X_test = V52_data[['ActPow','ActPow_std','Wsp_44m', 'Wsp_44m_std']][validation_int:]\n",
    "X_test = forecast_sequences_input(X_test,n_lag)\n",
    "\n",
    "# test output vector\n",
    "Y_test = V52_data[['ActPow']][validation_int:]\n",
    "Y_test = forecast_sequences_output(Y_test, n_out)"
   ]
  },
  {
   "cell_type": "markdown",
   "metadata": {},
   "source": [
    "we have the dataset from AS03 also to try"
   ]
  },
  {
   "cell_type": "code",
   "execution_count": 13,
   "metadata": {},
   "outputs": [],
   "source": [
    "# test input vector\n",
    "#X_test = data_AS03[['ActPow','ActPow_stdev','Wsp_44m', 'Wsp_44m_stdev']][:]\n",
    "#X_test = forecast_sequences_input(X_test,n_lag)\n",
    "\n",
    "# test output vector\n",
    "#Y_test = data_AS03[['ActPow']][:]\n",
    "#Y_test = forecast_sequences_output(Y_test, n_out)"
   ]
  },
  {
   "cell_type": "code",
   "execution_count": 14,
   "metadata": {},
   "outputs": [
    {
     "data": {
      "text/html": [
       "<div>\n",
       "<style scoped>\n",
       "    .dataframe tbody tr th:only-of-type {\n",
       "        vertical-align: middle;\n",
       "    }\n",
       "\n",
       "    .dataframe tbody tr th {\n",
       "        vertical-align: top;\n",
       "    }\n",
       "\n",
       "    .dataframe thead th {\n",
       "        text-align: right;\n",
       "    }\n",
       "</style>\n",
       "<table border=\"1\" class=\"dataframe\">\n",
       "  <thead>\n",
       "    <tr style=\"text-align: right;\">\n",
       "      <th></th>\n",
       "      <th>var1(t-6)</th>\n",
       "      <th>var2(t-6)</th>\n",
       "      <th>var3(t-6)</th>\n",
       "      <th>var4(t-6)</th>\n",
       "      <th>var1(t-5)</th>\n",
       "      <th>var2(t-5)</th>\n",
       "      <th>var3(t-5)</th>\n",
       "      <th>var4(t-5)</th>\n",
       "      <th>var1(t-4)</th>\n",
       "      <th>var2(t-4)</th>\n",
       "      <th>...</th>\n",
       "      <th>var3(t-3)</th>\n",
       "      <th>var4(t-3)</th>\n",
       "      <th>var1(t-2)</th>\n",
       "      <th>var2(t-2)</th>\n",
       "      <th>var3(t-2)</th>\n",
       "      <th>var4(t-2)</th>\n",
       "      <th>var1(t-1)</th>\n",
       "      <th>var2(t-1)</th>\n",
       "      <th>var3(t-1)</th>\n",
       "      <th>var4(t-1)</th>\n",
       "    </tr>\n",
       "    <tr>\n",
       "      <th>Date</th>\n",
       "      <th></th>\n",
       "      <th></th>\n",
       "      <th></th>\n",
       "      <th></th>\n",
       "      <th></th>\n",
       "      <th></th>\n",
       "      <th></th>\n",
       "      <th></th>\n",
       "      <th></th>\n",
       "      <th></th>\n",
       "      <th></th>\n",
       "      <th></th>\n",
       "      <th></th>\n",
       "      <th></th>\n",
       "      <th></th>\n",
       "      <th></th>\n",
       "      <th></th>\n",
       "      <th></th>\n",
       "      <th></th>\n",
       "      <th></th>\n",
       "      <th></th>\n",
       "    </tr>\n",
       "  </thead>\n",
       "  <tbody>\n",
       "    <tr>\n",
       "      <th>2018-01-01 00:00:00</th>\n",
       "      <td>NaN</td>\n",
       "      <td>NaN</td>\n",
       "      <td>NaN</td>\n",
       "      <td>NaN</td>\n",
       "      <td>NaN</td>\n",
       "      <td>NaN</td>\n",
       "      <td>NaN</td>\n",
       "      <td>NaN</td>\n",
       "      <td>NaN</td>\n",
       "      <td>NaN</td>\n",
       "      <td>...</td>\n",
       "      <td>NaN</td>\n",
       "      <td>NaN</td>\n",
       "      <td>NaN</td>\n",
       "      <td>NaN</td>\n",
       "      <td>NaN</td>\n",
       "      <td>NaN</td>\n",
       "      <td>NaN</td>\n",
       "      <td>NaN</td>\n",
       "      <td>NaN</td>\n",
       "      <td>NaN</td>\n",
       "    </tr>\n",
       "    <tr>\n",
       "      <th>2018-01-01 00:10:00</th>\n",
       "      <td>NaN</td>\n",
       "      <td>NaN</td>\n",
       "      <td>NaN</td>\n",
       "      <td>NaN</td>\n",
       "      <td>NaN</td>\n",
       "      <td>NaN</td>\n",
       "      <td>NaN</td>\n",
       "      <td>NaN</td>\n",
       "      <td>NaN</td>\n",
       "      <td>NaN</td>\n",
       "      <td>...</td>\n",
       "      <td>NaN</td>\n",
       "      <td>NaN</td>\n",
       "      <td>NaN</td>\n",
       "      <td>NaN</td>\n",
       "      <td>NaN</td>\n",
       "      <td>NaN</td>\n",
       "      <td>64.6673</td>\n",
       "      <td>33.4251</td>\n",
       "      <td>4.71803</td>\n",
       "      <td>0.566131</td>\n",
       "    </tr>\n",
       "    <tr>\n",
       "      <th>2018-01-01 00:20:00</th>\n",
       "      <td>NaN</td>\n",
       "      <td>NaN</td>\n",
       "      <td>NaN</td>\n",
       "      <td>NaN</td>\n",
       "      <td>NaN</td>\n",
       "      <td>NaN</td>\n",
       "      <td>NaN</td>\n",
       "      <td>NaN</td>\n",
       "      <td>NaN</td>\n",
       "      <td>NaN</td>\n",
       "      <td>...</td>\n",
       "      <td>NaN</td>\n",
       "      <td>NaN</td>\n",
       "      <td>64.6673</td>\n",
       "      <td>33.4251</td>\n",
       "      <td>4.71803</td>\n",
       "      <td>0.566131</td>\n",
       "      <td>70.8152</td>\n",
       "      <td>26.3829</td>\n",
       "      <td>5.44100</td>\n",
       "      <td>0.765691</td>\n",
       "    </tr>\n",
       "    <tr>\n",
       "      <th>2018-01-01 00:30:00</th>\n",
       "      <td>NaN</td>\n",
       "      <td>NaN</td>\n",
       "      <td>NaN</td>\n",
       "      <td>NaN</td>\n",
       "      <td>NaN</td>\n",
       "      <td>NaN</td>\n",
       "      <td>NaN</td>\n",
       "      <td>NaN</td>\n",
       "      <td>NaN</td>\n",
       "      <td>NaN</td>\n",
       "      <td>...</td>\n",
       "      <td>4.71803</td>\n",
       "      <td>0.566131</td>\n",
       "      <td>70.8152</td>\n",
       "      <td>26.3829</td>\n",
       "      <td>5.44100</td>\n",
       "      <td>0.765691</td>\n",
       "      <td>80.8037</td>\n",
       "      <td>30.2002</td>\n",
       "      <td>5.32178</td>\n",
       "      <td>0.603442</td>\n",
       "    </tr>\n",
       "    <tr>\n",
       "      <th>2018-01-01 00:40:00</th>\n",
       "      <td>NaN</td>\n",
       "      <td>NaN</td>\n",
       "      <td>NaN</td>\n",
       "      <td>NaN</td>\n",
       "      <td>NaN</td>\n",
       "      <td>NaN</td>\n",
       "      <td>NaN</td>\n",
       "      <td>NaN</td>\n",
       "      <td>64.6673</td>\n",
       "      <td>33.4251</td>\n",
       "      <td>...</td>\n",
       "      <td>5.44100</td>\n",
       "      <td>0.765691</td>\n",
       "      <td>80.8037</td>\n",
       "      <td>30.2002</td>\n",
       "      <td>5.32178</td>\n",
       "      <td>0.603442</td>\n",
       "      <td>86.1123</td>\n",
       "      <td>43.1192</td>\n",
       "      <td>5.95325</td>\n",
       "      <td>0.872915</td>\n",
       "    </tr>\n",
       "    <tr>\n",
       "      <th>...</th>\n",
       "      <td>...</td>\n",
       "      <td>...</td>\n",
       "      <td>...</td>\n",
       "      <td>...</td>\n",
       "      <td>...</td>\n",
       "      <td>...</td>\n",
       "      <td>...</td>\n",
       "      <td>...</td>\n",
       "      <td>...</td>\n",
       "      <td>...</td>\n",
       "      <td>...</td>\n",
       "      <td>...</td>\n",
       "      <td>...</td>\n",
       "      <td>...</td>\n",
       "      <td>...</td>\n",
       "      <td>...</td>\n",
       "      <td>...</td>\n",
       "      <td>...</td>\n",
       "      <td>...</td>\n",
       "      <td>...</td>\n",
       "      <td>...</td>\n",
       "    </tr>\n",
       "    <tr>\n",
       "      <th>2018-08-07 23:10:00</th>\n",
       "      <td>230.832</td>\n",
       "      <td>62.8708</td>\n",
       "      <td>7.56729</td>\n",
       "      <td>1.29429</td>\n",
       "      <td>264.180</td>\n",
       "      <td>62.8166</td>\n",
       "      <td>7.81089</td>\n",
       "      <td>1.28814</td>\n",
       "      <td>243.6690</td>\n",
       "      <td>59.4291</td>\n",
       "      <td>...</td>\n",
       "      <td>7.22891</td>\n",
       "      <td>1.341690</td>\n",
       "      <td>175.0950</td>\n",
       "      <td>44.6526</td>\n",
       "      <td>6.23930</td>\n",
       "      <td>1.170930</td>\n",
       "      <td>209.5140</td>\n",
       "      <td>47.2370</td>\n",
       "      <td>6.51567</td>\n",
       "      <td>1.364550</td>\n",
       "    </tr>\n",
       "    <tr>\n",
       "      <th>2018-08-07 23:20:00</th>\n",
       "      <td>264.180</td>\n",
       "      <td>62.8166</td>\n",
       "      <td>7.81089</td>\n",
       "      <td>1.28814</td>\n",
       "      <td>243.669</td>\n",
       "      <td>59.4291</td>\n",
       "      <td>7.96917</td>\n",
       "      <td>1.43644</td>\n",
       "      <td>211.0140</td>\n",
       "      <td>54.1709</td>\n",
       "      <td>...</td>\n",
       "      <td>6.23930</td>\n",
       "      <td>1.170930</td>\n",
       "      <td>209.5140</td>\n",
       "      <td>47.2370</td>\n",
       "      <td>6.51567</td>\n",
       "      <td>1.364550</td>\n",
       "      <td>232.8220</td>\n",
       "      <td>55.5431</td>\n",
       "      <td>6.91831</td>\n",
       "      <td>1.291900</td>\n",
       "    </tr>\n",
       "    <tr>\n",
       "      <th>2018-08-07 23:30:00</th>\n",
       "      <td>243.669</td>\n",
       "      <td>59.4291</td>\n",
       "      <td>7.96917</td>\n",
       "      <td>1.43644</td>\n",
       "      <td>211.014</td>\n",
       "      <td>54.1709</td>\n",
       "      <td>7.22891</td>\n",
       "      <td>1.34169</td>\n",
       "      <td>175.0950</td>\n",
       "      <td>44.6526</td>\n",
       "      <td>...</td>\n",
       "      <td>6.51567</td>\n",
       "      <td>1.364550</td>\n",
       "      <td>232.8220</td>\n",
       "      <td>55.5431</td>\n",
       "      <td>6.91831</td>\n",
       "      <td>1.291900</td>\n",
       "      <td>220.9390</td>\n",
       "      <td>44.2433</td>\n",
       "      <td>7.00994</td>\n",
       "      <td>1.342040</td>\n",
       "    </tr>\n",
       "    <tr>\n",
       "      <th>2018-08-07 23:40:00</th>\n",
       "      <td>211.014</td>\n",
       "      <td>54.1709</td>\n",
       "      <td>7.22891</td>\n",
       "      <td>1.34169</td>\n",
       "      <td>175.095</td>\n",
       "      <td>44.6526</td>\n",
       "      <td>6.23930</td>\n",
       "      <td>1.17093</td>\n",
       "      <td>209.5140</td>\n",
       "      <td>47.2370</td>\n",
       "      <td>...</td>\n",
       "      <td>6.91831</td>\n",
       "      <td>1.291900</td>\n",
       "      <td>220.9390</td>\n",
       "      <td>44.2433</td>\n",
       "      <td>7.00994</td>\n",
       "      <td>1.342040</td>\n",
       "      <td>206.5300</td>\n",
       "      <td>46.0332</td>\n",
       "      <td>7.06775</td>\n",
       "      <td>1.385550</td>\n",
       "    </tr>\n",
       "    <tr>\n",
       "      <th>2018-08-07 23:50:00</th>\n",
       "      <td>175.095</td>\n",
       "      <td>44.6526</td>\n",
       "      <td>6.23930</td>\n",
       "      <td>1.17093</td>\n",
       "      <td>209.514</td>\n",
       "      <td>47.2370</td>\n",
       "      <td>6.51567</td>\n",
       "      <td>1.36455</td>\n",
       "      <td>232.8220</td>\n",
       "      <td>55.5431</td>\n",
       "      <td>...</td>\n",
       "      <td>7.00994</td>\n",
       "      <td>1.342040</td>\n",
       "      <td>206.5300</td>\n",
       "      <td>46.0332</td>\n",
       "      <td>7.06775</td>\n",
       "      <td>1.385550</td>\n",
       "      <td>169.3650</td>\n",
       "      <td>40.6005</td>\n",
       "      <td>6.37986</td>\n",
       "      <td>1.358490</td>\n",
       "    </tr>\n",
       "  </tbody>\n",
       "</table>\n",
       "<p>31536 rows × 24 columns</p>\n",
       "</div>"
      ],
      "text/plain": [
       "                     var1(t-6)  var2(t-6)  var3(t-6)  var4(t-6)  var1(t-5)  \\\n",
       "Date                                                                         \n",
       "2018-01-01 00:00:00        NaN        NaN        NaN        NaN        NaN   \n",
       "2018-01-01 00:10:00        NaN        NaN        NaN        NaN        NaN   \n",
       "2018-01-01 00:20:00        NaN        NaN        NaN        NaN        NaN   \n",
       "2018-01-01 00:30:00        NaN        NaN        NaN        NaN        NaN   \n",
       "2018-01-01 00:40:00        NaN        NaN        NaN        NaN        NaN   \n",
       "...                        ...        ...        ...        ...        ...   \n",
       "2018-08-07 23:10:00    230.832    62.8708    7.56729    1.29429    264.180   \n",
       "2018-08-07 23:20:00    264.180    62.8166    7.81089    1.28814    243.669   \n",
       "2018-08-07 23:30:00    243.669    59.4291    7.96917    1.43644    211.014   \n",
       "2018-08-07 23:40:00    211.014    54.1709    7.22891    1.34169    175.095   \n",
       "2018-08-07 23:50:00    175.095    44.6526    6.23930    1.17093    209.514   \n",
       "\n",
       "                     var2(t-5)  var3(t-5)  var4(t-5)  var1(t-4)  var2(t-4)  \\\n",
       "Date                                                                         \n",
       "2018-01-01 00:00:00        NaN        NaN        NaN        NaN        NaN   \n",
       "2018-01-01 00:10:00        NaN        NaN        NaN        NaN        NaN   \n",
       "2018-01-01 00:20:00        NaN        NaN        NaN        NaN        NaN   \n",
       "2018-01-01 00:30:00        NaN        NaN        NaN        NaN        NaN   \n",
       "2018-01-01 00:40:00        NaN        NaN        NaN    64.6673    33.4251   \n",
       "...                        ...        ...        ...        ...        ...   \n",
       "2018-08-07 23:10:00    62.8166    7.81089    1.28814   243.6690    59.4291   \n",
       "2018-08-07 23:20:00    59.4291    7.96917    1.43644   211.0140    54.1709   \n",
       "2018-08-07 23:30:00    54.1709    7.22891    1.34169   175.0950    44.6526   \n",
       "2018-08-07 23:40:00    44.6526    6.23930    1.17093   209.5140    47.2370   \n",
       "2018-08-07 23:50:00    47.2370    6.51567    1.36455   232.8220    55.5431   \n",
       "\n",
       "                     ...  var3(t-3)  var4(t-3)  var1(t-2)  var2(t-2)  \\\n",
       "Date                 ...                                               \n",
       "2018-01-01 00:00:00  ...        NaN        NaN        NaN        NaN   \n",
       "2018-01-01 00:10:00  ...        NaN        NaN        NaN        NaN   \n",
       "2018-01-01 00:20:00  ...        NaN        NaN    64.6673    33.4251   \n",
       "2018-01-01 00:30:00  ...    4.71803   0.566131    70.8152    26.3829   \n",
       "2018-01-01 00:40:00  ...    5.44100   0.765691    80.8037    30.2002   \n",
       "...                  ...        ...        ...        ...        ...   \n",
       "2018-08-07 23:10:00  ...    7.22891   1.341690   175.0950    44.6526   \n",
       "2018-08-07 23:20:00  ...    6.23930   1.170930   209.5140    47.2370   \n",
       "2018-08-07 23:30:00  ...    6.51567   1.364550   232.8220    55.5431   \n",
       "2018-08-07 23:40:00  ...    6.91831   1.291900   220.9390    44.2433   \n",
       "2018-08-07 23:50:00  ...    7.00994   1.342040   206.5300    46.0332   \n",
       "\n",
       "                     var3(t-2)  var4(t-2)  var1(t-1)  var2(t-1)  var3(t-1)  \\\n",
       "Date                                                                         \n",
       "2018-01-01 00:00:00        NaN        NaN        NaN        NaN        NaN   \n",
       "2018-01-01 00:10:00        NaN        NaN    64.6673    33.4251    4.71803   \n",
       "2018-01-01 00:20:00    4.71803   0.566131    70.8152    26.3829    5.44100   \n",
       "2018-01-01 00:30:00    5.44100   0.765691    80.8037    30.2002    5.32178   \n",
       "2018-01-01 00:40:00    5.32178   0.603442    86.1123    43.1192    5.95325   \n",
       "...                        ...        ...        ...        ...        ...   \n",
       "2018-08-07 23:10:00    6.23930   1.170930   209.5140    47.2370    6.51567   \n",
       "2018-08-07 23:20:00    6.51567   1.364550   232.8220    55.5431    6.91831   \n",
       "2018-08-07 23:30:00    6.91831   1.291900   220.9390    44.2433    7.00994   \n",
       "2018-08-07 23:40:00    7.00994   1.342040   206.5300    46.0332    7.06775   \n",
       "2018-08-07 23:50:00    7.06775   1.385550   169.3650    40.6005    6.37986   \n",
       "\n",
       "                     var4(t-1)  \n",
       "Date                            \n",
       "2018-01-01 00:00:00        NaN  \n",
       "2018-01-01 00:10:00   0.566131  \n",
       "2018-01-01 00:20:00   0.765691  \n",
       "2018-01-01 00:30:00   0.603442  \n",
       "2018-01-01 00:40:00   0.872915  \n",
       "...                        ...  \n",
       "2018-08-07 23:10:00   1.364550  \n",
       "2018-08-07 23:20:00   1.291900  \n",
       "2018-08-07 23:30:00   1.342040  \n",
       "2018-08-07 23:40:00   1.385550  \n",
       "2018-08-07 23:50:00   1.358490  \n",
       "\n",
       "[31536 rows x 24 columns]"
      ]
     },
     "execution_count": 14,
     "metadata": {},
     "output_type": "execute_result"
    }
   ],
   "source": [
    "X_train"
   ]
  },
  {
   "cell_type": "code",
   "execution_count": 15,
   "metadata": {},
   "outputs": [
    {
     "data": {
      "text/html": [
       "<div>\n",
       "<style scoped>\n",
       "    .dataframe tbody tr th:only-of-type {\n",
       "        vertical-align: middle;\n",
       "    }\n",
       "\n",
       "    .dataframe tbody tr th {\n",
       "        vertical-align: top;\n",
       "    }\n",
       "\n",
       "    .dataframe thead th {\n",
       "        text-align: right;\n",
       "    }\n",
       "</style>\n",
       "<table border=\"1\" class=\"dataframe\">\n",
       "  <thead>\n",
       "    <tr style=\"text-align: right;\">\n",
       "      <th></th>\n",
       "      <th>var1(t)</th>\n",
       "    </tr>\n",
       "    <tr>\n",
       "      <th>Date</th>\n",
       "      <th></th>\n",
       "    </tr>\n",
       "  </thead>\n",
       "  <tbody>\n",
       "    <tr>\n",
       "      <th>2018-01-01 00:00:00</th>\n",
       "      <td>64.6673</td>\n",
       "    </tr>\n",
       "    <tr>\n",
       "      <th>2018-01-01 00:10:00</th>\n",
       "      <td>70.8152</td>\n",
       "    </tr>\n",
       "    <tr>\n",
       "      <th>2018-01-01 00:20:00</th>\n",
       "      <td>80.8037</td>\n",
       "    </tr>\n",
       "    <tr>\n",
       "      <th>2018-01-01 00:30:00</th>\n",
       "      <td>86.1123</td>\n",
       "    </tr>\n",
       "    <tr>\n",
       "      <th>2018-01-01 00:40:00</th>\n",
       "      <td>110.8570</td>\n",
       "    </tr>\n",
       "    <tr>\n",
       "      <th>...</th>\n",
       "      <td>...</td>\n",
       "    </tr>\n",
       "    <tr>\n",
       "      <th>2018-08-07 23:10:00</th>\n",
       "      <td>232.8220</td>\n",
       "    </tr>\n",
       "    <tr>\n",
       "      <th>2018-08-07 23:20:00</th>\n",
       "      <td>220.9390</td>\n",
       "    </tr>\n",
       "    <tr>\n",
       "      <th>2018-08-07 23:30:00</th>\n",
       "      <td>206.5300</td>\n",
       "    </tr>\n",
       "    <tr>\n",
       "      <th>2018-08-07 23:40:00</th>\n",
       "      <td>169.3650</td>\n",
       "    </tr>\n",
       "    <tr>\n",
       "      <th>2018-08-07 23:50:00</th>\n",
       "      <td>145.8480</td>\n",
       "    </tr>\n",
       "  </tbody>\n",
       "</table>\n",
       "<p>31536 rows × 1 columns</p>\n",
       "</div>"
      ],
      "text/plain": [
       "                      var1(t)\n",
       "Date                         \n",
       "2018-01-01 00:00:00   64.6673\n",
       "2018-01-01 00:10:00   70.8152\n",
       "2018-01-01 00:20:00   80.8037\n",
       "2018-01-01 00:30:00   86.1123\n",
       "2018-01-01 00:40:00  110.8570\n",
       "...                       ...\n",
       "2018-08-07 23:10:00  232.8220\n",
       "2018-08-07 23:20:00  220.9390\n",
       "2018-08-07 23:30:00  206.5300\n",
       "2018-08-07 23:40:00  169.3650\n",
       "2018-08-07 23:50:00  145.8480\n",
       "\n",
       "[31536 rows x 1 columns]"
      ]
     },
     "execution_count": 15,
     "metadata": {},
     "output_type": "execute_result"
    }
   ],
   "source": [
    "Y_train"
   ]
  },
  {
   "cell_type": "markdown",
   "metadata": {},
   "source": [
    "## PREPROCESSING OF THE DATA IS NEEDED BECASUE THE NANS IN THE OUTPUT ARE IMPORTANT"
   ]
  },
  {
   "cell_type": "markdown",
   "metadata": {},
   "source": [
    "Preporcessing of training data"
   ]
  },
  {
   "cell_type": "code",
   "execution_count": 16,
   "metadata": {},
   "outputs": [],
   "source": [
    "# find and store the indices where there is a nNan in Y_train\n",
    "nan_index_y = np.where(np.isnan(Y_train['var1(t)']))[0]\n",
    "# drop the rows with Nan values in Y_train\n",
    "Y_train = Y_train.dropna()\n",
    "\n",
    "# now we need to drop the corresponding rows in X_train\n",
    "# however the corresponding rows will be shifted by n_lag\n",
    "nan_index_x = nan_index_y + 1\n",
    "# remove rows in X_train at index nan_index_x\n",
    "X_train = X_train.drop(X_train.index[nan_index_x])"
   ]
  },
  {
   "cell_type": "markdown",
   "metadata": {},
   "source": [
    "preprocessing of validation data: repeat same as training"
   ]
  },
  {
   "cell_type": "code",
   "execution_count": 17,
   "metadata": {},
   "outputs": [],
   "source": [
    "nan_y_validation = np.where(np.isnan(Y_validation['var1(t)']))[0]\n",
    "Y_validation = Y_validation.dropna()\n",
    "\n",
    "nan_x_validation = nan_y_validation + 1\n",
    "X_validation = X_validation.drop(X_validation.index[nan_x_validation])"
   ]
  },
  {
   "cell_type": "markdown",
   "metadata": {},
   "source": [
    "preprocessing of test data: repeat same as training"
   ]
  },
  {
   "cell_type": "code",
   "execution_count": 18,
   "metadata": {},
   "outputs": [],
   "source": [
    "nan_y_test = np.where(np.isnan(Y_test['var1(t)']))[0]\n",
    "#Y_test = Y_test.dropna()\n",
    "\n",
    "nan_x_test = nan_y_test + 1\n",
    "#X_test = X_test.drop(X_test.index[nan_x_test])"
   ]
  },
  {
   "cell_type": "markdown",
   "metadata": {},
   "source": [
    "### Remember to scale!"
   ]
  },
  {
   "cell_type": "code",
   "execution_count": 19,
   "metadata": {},
   "outputs": [
    {
     "name": "stdout",
     "output_type": "stream",
     "text": [
      "Training input (samples, timesteps): (19936, 24)\n",
      "Training output (samples, timesteps): (19936, 1)\n",
      "Validation input (samples, timesteps): (8164, 24)\n",
      "Validation output (samples, timesteps): (8164, 1)\n"
     ]
    }
   ],
   "source": [
    "from sklearn.preprocessing import MinMaxScaler\n",
    "### scale the dataset\n",
    "scalerx = MinMaxScaler(feature_range=(0, 1))\n",
    "scalery = MinMaxScaler(feature_range=(0, 1))\n",
    "\n",
    "X_train_scaled = scalerx.fit_transform(X_train)\n",
    "X_validation_scaled = scalerx.transform(X_validation)\n",
    "X_test_scaled = scalerx.transform(X_test)\n",
    "\n",
    "Y_train_scaled = scalery.fit_transform(Y_train)\n",
    "Y_validation_scaled = scalery.transform(Y_validation)\n",
    "Y_test_scaled = scalery.transform(Y_test)\n",
    "\n",
    "print('Training input (samples, timesteps):', X_train_scaled.shape)\n",
    "print('Training output (samples, timesteps):', Y_train.shape)\n",
    "print('Validation input (samples, timesteps):', X_validation_scaled.shape)\n",
    "print('Validation output (samples, timesteps):', Y_validation.shape)\n"
   ]
  },
  {
   "cell_type": "markdown",
   "metadata": {},
   "source": [
    "### Pad NaNs for missing periods with a significant number (to be 'masked' for the training later)"
   ]
  },
  {
   "cell_type": "code",
   "execution_count": 20,
   "metadata": {},
   "outputs": [],
   "source": [
    "pad_value = 999\n",
    "\n",
    "X_train_scaled[np.isnan(X_train_scaled)] = pad_value\n",
    "X_validation_scaled[np.isnan(X_validation_scaled)] = pad_value\n",
    "#X_test_scaled[np.isnan(X_test_scaled)] = pad_value\n",
    "\n",
    "#it actaully doesnt matter for the output value - that´s why we preprocess and drop\n",
    "#Y_train_scaled[np.isnan(Y_train_scaled)] = pad_value\n",
    "#Y_validation_scaled[np.isnan(Y_validation_scaled)] = pad_value\n",
    "#Y_test_scaled[np.isnan(Y_test_scaled)] = pad_value"
   ]
  },
  {
   "cell_type": "code",
   "execution_count": 21,
   "metadata": {},
   "outputs": [
    {
     "data": {
      "text/plain": [
       "array([[9.99000000e+02, 9.99000000e+02, 9.99000000e+02, ...,\n",
       "        9.99000000e+02, 9.99000000e+02, 9.99000000e+02],\n",
       "       [9.99000000e+02, 9.99000000e+02, 9.99000000e+02, ...,\n",
       "        1.07411621e-01, 2.54001683e-01, 1.37998210e-01],\n",
       "       [9.99000000e+02, 9.99000000e+02, 9.99000000e+02, ...,\n",
       "        8.47814979e-02, 2.99366331e-01, 1.87686577e-01],\n",
       "       ...,\n",
       "       [2.81965372e-01, 1.90975523e-01, 4.58002985e-01, ...,\n",
       "        1.42175926e-01, 3.97813584e-01, 3.31191491e-01],\n",
       "       [2.44014184e-01, 1.74078287e-01, 4.11553431e-01, ...,\n",
       "        1.47927773e-01, 4.01441024e-01, 3.42025030e-01],\n",
       "       [2.02269619e-01, 1.43491213e-01, 3.49457757e-01, ...,\n",
       "        1.30469782e-01, 3.58277563e-01, 3.35287371e-01]])"
      ]
     },
     "execution_count": 21,
     "metadata": {},
     "output_type": "execute_result"
    }
   ],
   "source": [
    "X_train_scaled"
   ]
  },
  {
   "cell_type": "code",
   "execution_count": 22,
   "metadata": {},
   "outputs": [
    {
     "data": {
      "text/plain": [
       "array([[0.07393208],\n",
       "       [0.08107708],\n",
       "       [0.09268558],\n",
       "       ...,\n",
       "       [0.23880294],\n",
       "       [0.19561029],\n",
       "       [0.16827916]])"
      ]
     },
     "execution_count": 22,
     "metadata": {},
     "output_type": "execute_result"
    }
   ],
   "source": [
    "Y_train_scaled"
   ]
  },
  {
   "cell_type": "markdown",
   "metadata": {},
   "source": [
    "## LSTM architecture\n",
    "\n",
    "We will first add a Masking layer to tell the network to ignore missing periods in the training\n",
    " \n",
    "We will use pretty much the same architecture with FFNN, except for the LSTM layers. \n",
    "\n",
    "There are however, little differences LSTM requires in bulding the model."
   ]
  },
  {
   "cell_type": "code",
   "execution_count": 23,
   "metadata": {},
   "outputs": [],
   "source": [
    "from tensorflow.keras.layers import LSTM, Masking\n",
    "\n",
    "# for multiple model creation - clear  the previous DAG\n",
    "K.clear_session() \n",
    "\n",
    "### Input reshape for LSTM problem  [samples, timesteps, features]\n",
    "no_features = 4 # power and ws + their std\n",
    "\n",
    "train_X = X_train_scaled.reshape((X_train_scaled.shape[0], n_lag, no_features))#.astype('float32')\n",
    "train_Y = Y_train_scaled #.values#.astype('float32')\n",
    "\n",
    "validation_X = X_validation_scaled.reshape((X_validation_scaled.shape[0], n_lag, no_features))#.astype('float32')\n",
    "validation_Y = Y_validation_scaled #.values#.astype('float32')\n",
    "\n",
    "test_X = X_test_scaled.reshape((X_test_scaled.shape[0], n_lag, no_features))#.astype('float32')\n",
    "test_Y = Y_test_scaled #.values#.astype('float32')\n"
   ]
  },
  {
   "cell_type": "code",
   "execution_count": 24,
   "metadata": {},
   "outputs": [
    {
     "name": "stdout",
     "output_type": "stream",
     "text": [
      "Model: \"sequential\"\n",
      "_________________________________________________________________\n",
      " Layer (type)                Output Shape              Param #   \n",
      "=================================================================\n",
      " masking (Masking)           (None, None, 4)           0         \n",
      "                                                                 \n",
      " lstm (LSTM)                 (None, None, 50)          11000     \n",
      "                                                                 \n",
      " activation (Activation)     (None, None, 50)          0         \n",
      "                                                                 \n",
      " lstm_1 (LSTM)               (None, 10)                2440      \n",
      "                                                                 \n",
      " dense (Dense)               (None, 1)                 11        \n",
      "                                                                 \n",
      "=================================================================\n",
      "Total params: 13451 (52.54 KB)\n",
      "Trainable params: 13451 (52.54 KB)\n",
      "Non-trainable params: 0 (0.00 Byte)\n",
      "_________________________________________________________________\n",
      "Epoch 1/20\n",
      "40/40 [==============================] - 10s 94ms/step - loss: 0.0361 - val_loss: 0.0096\n",
      "Epoch 2/20\n",
      "40/40 [==============================] - 1s 32ms/step - loss: 0.0070 - val_loss: 0.0073\n",
      "Epoch 3/20\n",
      "40/40 [==============================] - 1s 30ms/step - loss: 0.0065 - val_loss: 0.0071\n",
      "Epoch 4/20\n",
      "40/40 [==============================] - 1s 30ms/step - loss: 0.0063 - val_loss: 0.0070\n",
      "Epoch 5/20\n",
      "40/40 [==============================] - 1s 28ms/step - loss: 0.0062 - val_loss: 0.0069\n",
      "Epoch 6/20\n",
      "40/40 [==============================] - 1s 33ms/step - loss: 0.0060 - val_loss: 0.0067\n",
      "Epoch 7/20\n",
      "40/40 [==============================] - 1s 29ms/step - loss: 0.0058 - val_loss: 0.0065\n",
      "Epoch 8/20\n",
      "40/40 [==============================] - 1s 29ms/step - loss: 0.0057 - val_loss: 0.0062\n",
      "Epoch 9/20\n",
      "40/40 [==============================] - 1s 28ms/step - loss: 0.0054 - val_loss: 0.0060\n",
      "Epoch 10/20\n",
      "40/40 [==============================] - 1s 30ms/step - loss: 0.0052 - val_loss: 0.0057\n",
      "Epoch 11/20\n",
      "40/40 [==============================] - 1s 30ms/step - loss: 0.0050 - val_loss: 0.0054\n",
      "Epoch 12/20\n",
      "40/40 [==============================] - 1s 28ms/step - loss: 0.0048 - val_loss: 0.0052\n",
      "Epoch 13/20\n",
      "40/40 [==============================] - 1s 31ms/step - loss: 0.0047 - val_loss: 0.0052\n",
      "Epoch 14/20\n",
      "40/40 [==============================] - 1s 33ms/step - loss: 0.0046 - val_loss: 0.0051\n",
      "Epoch 15/20\n",
      "40/40 [==============================] - 1s 30ms/step - loss: 0.0046 - val_loss: 0.0050\n",
      "Epoch 16/20\n",
      "40/40 [==============================] - 1s 29ms/step - loss: 0.0044 - val_loss: 0.0048\n",
      "Epoch 17/20\n",
      "40/40 [==============================] - 1s 32ms/step - loss: 0.0044 - val_loss: 0.0046\n",
      "Epoch 18/20\n",
      "40/40 [==============================] - 1s 28ms/step - loss: 0.0043 - val_loss: 0.0045\n",
      "Epoch 19/20\n",
      "40/40 [==============================] - 1s 29ms/step - loss: 0.0041 - val_loss: 0.0045\n",
      "Epoch 20/20\n",
      "40/40 [==============================] - 1s 27ms/step - loss: 0.0041 - val_loss: 0.0044\n"
     ]
    }
   ],
   "source": [
    "from keras.callbacks import EarlyStopping\n",
    "\n",
    "\n",
    "\n",
    "### create model\n",
    "model = Sequential()\n",
    "\n",
    "# Masking layer (for the pad_value)\n",
    "model.add(Masking(mask_value=pad_value, input_shape=(None, no_features)))\n",
    "#model.add(Masking(mask_value=NanIgnore, input_shape=(None, no_features))) # 0.0011607661 is the pad_value for the scaled -1\n",
    "\n",
    "\n",
    "# First LSTM layer\n",
    "model.add(LSTM(50, \n",
    "               return_sequences=True,  # important to add it to ensure the following LSTM layers will have the same input shape\n",
    "               input_shape=(train_X.shape[1], train_X.shape[2]),                \n",
    "               kernel_initializer='glorot_uniform',\n",
    "               bias_initializer='zeros'))\n",
    "               \n",
    "# then we add the activation\n",
    "model.add(Activation('tanh'))\n",
    "\n",
    "# Second LSTM layer\n",
    "model.add(LSTM(10, activation='tanh'))\n",
    "\n",
    "# Output Layer\n",
    "model.add(Dense(1))\n",
    "model.summary()\n",
    "\n",
    "# compile the model\n",
    "model.compile(loss='mean_squared_error', optimizer='adam')\n",
    "# fit the model and store the graphs and performance to be used in TensorBoard (optional)\n",
    "now = datetime.datetime.now().strftime(\"%Y%m%d%H%M\")\n",
    "\n",
    "tbGraph = TensorBoard(log_dir=f'.\\Graph\\{now}',\n",
    "                      histogram_freq=64*2, write_graph=True, write_images=True)\n",
    "\n",
    "\n",
    "# create an EarlyStopping callback\n",
    "early_stopping = EarlyStopping(monitor='val_loss', patience=3)\n",
    "# add it to your callbacks list\n",
    "callbacks = [tbGraph, early_stopping]\n",
    "\n",
    "history = model.fit(train_X, train_Y, \n",
    "          epochs=20,\n",
    "          batch_size=500,\n",
    "          validation_data=(validation_X, validation_Y),\n",
    "          callbacks=callbacks)\n",
    "\n",
    "\n"
   ]
  },
  {
   "cell_type": "code",
   "execution_count": 25,
   "metadata": {},
   "outputs": [
    {
     "data": {
      "text/plain": [
       "<matplotlib.legend.Legend at 0x1bff01a3dd0>"
      ]
     },
     "execution_count": 25,
     "metadata": {},
     "output_type": "execute_result"
    },
    {
     "data": {
      "image/png": "[encoded data removed]",
      "text/plain": [
       "<Figure size 640x480 with 1 Axes>"
      ]
     },
     "metadata": {},
     "output_type": "display_data"
    }
   ],
   "source": [
    "# plot the lost\n",
    "plt.plot(history.history['loss'], label='train')\n",
    "plt.plot(history.history['val_loss'], label='validation')\n",
    "\n",
    "plt.legend()"
   ]
  },
  {
   "cell_type": "code",
   "execution_count": 26,
   "metadata": {},
   "outputs": [
    {
     "name": "stdout",
     "output_type": "stream",
     "text": [
      "329/329 [==============================] - 4s 4ms/step\n"
     ]
    }
   ],
   "source": [
    "# Make predictions and plot them against the actual values\n",
    "predictions = model.predict(test_X)\n"
   ]
  },
  {
   "cell_type": "code",
   "execution_count": 27,
   "metadata": {},
   "outputs": [],
   "source": [
    "\n",
    "predictions = scalery.inverse_transform(predictions)\n",
    "\n"
   ]
  },
  {
   "cell_type": "code",
   "execution_count": 28,
   "metadata": {},
   "outputs": [
    {
     "data": {
      "text/plain": [
       "array([[ 47.8596],\n",
       "       [ 40.1275],\n",
       "       [ 48.9501],\n",
       "       ...,\n",
       "       [632.185 ],\n",
       "       [547.601 ],\n",
       "       [506.603 ]])"
      ]
     },
     "execution_count": 28,
     "metadata": {},
     "output_type": "execute_result"
    }
   ],
   "source": [
    "test_Y = scalery.inverse_transform(test_Y)\n",
    "test_Y"
   ]
  },
  {
   "cell_type": "code",
   "execution_count": 29,
   "metadata": {},
   "outputs": [
    {
     "data": {
      "text/plain": [
       "<matplotlib.legend.Legend at 0x1bff77205d0>"
      ]
     },
     "execution_count": 29,
     "metadata": {},
     "output_type": "execute_result"
    },
    {
     "data": {
      "image/png": "[encoded data removed]",
      "text/plain": [
       "<Figure size 1000x800 with 1 Axes>"
      ]
     },
     "metadata": {},
     "output_type": "display_data"
    }
   ],
   "source": [
    "\n",
    "# plot the predictions\n",
    "plt.figure(figsize=(10,8))\n",
    "\n",
    "plt.plot(test_Y[300:144*4,-1], 'k', label='actual', linewidth=2)\n",
    "plt.plot(predictions[300:144*4],'-r', label='predictions', linewidth=2)\n",
    "plt.grid(True)\n",
    "\n",
    "plt.title('Predictions vs Actual Values', fontsize=20)\n",
    "plt.xlabel('Time', fontsize=16)\n",
    "plt.ylabel('Power', fontsize=16)\n",
    "\n",
    "plt.legend()"
   ]
  },
  {
   "cell_type": "markdown",
   "metadata": {},
   "source": [
    "## PERCENTAGE ERROR"
   ]
  },
  {
   "cell_type": "markdown",
   "metadata": {},
   "source": [
    "### Procees the predictions and test_y to be able to calculate the percentage error"
   ]
  },
  {
   "cell_type": "code",
   "execution_count": 30,
   "metadata": {},
   "outputs": [],
   "source": [
    "# Remove the first n_lag values from both predictions and test_Y\n",
    "date = Y_test.index[n_lag:]\n",
    "predictions = predictions[n_lag:]\n",
    "test_Y = test_Y[n_lag:]"
   ]
  },
  {
   "cell_type": "code",
   "execution_count": 33,
   "metadata": {},
   "outputs": [
    {
     "data": {
      "text/plain": [
       "<matplotlib.legend.Legend at 0x1bffc383dd0>"
      ]
     },
     "execution_count": 33,
     "metadata": {},
     "output_type": "execute_result"
    },
    {
     "data": {
      "image/png": "[encoded data removed]",
      "text/plain": [
       "<Figure size 1000x800 with 1 Axes>"
      ]
     },
     "metadata": {},
     "output_type": "display_data"
    }
   ],
   "source": [
    "percentage_error = ((predictions - test_Y)/test_Y)*100\n",
    "\n",
    "# plot the percentage error\n",
    "plt.figure(figsize=(10,8))\n",
    "\n",
    "plt.plot(percentage_error, 'k', label='percentage error', linewidth=2)\n",
    "plt.grid(True)\n",
    "\n",
    "plt.title('Percentage Error', fontsize=20)\n",
    "plt.xlabel('Time', fontsize=16)\n",
    "plt.ylabel('Percentage Error', fontsize=16)\n",
    "\n",
    "plt.legend()"
   ]
  },
  {
   "cell_type": "code",
   "execution_count": 34,
   "metadata": {},
   "outputs": [
    {
     "data": {
      "image/png": "[encoded data removed]",
      "text/plain": [
       "<Figure size 1000x800 with 1 Axes>"
      ]
     },
     "metadata": {},
     "output_type": "display_data"
    }
   ],
   "source": [
    "# plot the distribution of the percentage error\n",
    "plt.figure(figsize=(10,8))\n",
    "\n",
    "sns.histplot(percentage_error, bins=100, kde=True, color='k')\n",
    "\n",
    "plt.title('Distribution of Percentage Error', fontsize=20)\n",
    "plt.xlabel('Percentage Error', fontsize=16)\n",
    "plt.ylabel('Frequency', fontsize=16)\n",
    "\n",
    "# filter values greater than 300%\n",
    "percentage_error = percentage_error[percentage_error < 300]\n",
    "\n"
   ]
  },
  {
   "cell_type": "code",
   "execution_count": 35,
   "metadata": {},
   "outputs": [
    {
     "data": {
      "text/plain": [
       "75"
      ]
     },
     "execution_count": 35,
     "metadata": {},
     "output_type": "execute_result"
    }
   ],
   "source": [
    "# check ho many values are greater than 100%\n",
    "len(percentage_error[percentage_error > 150])"
   ]
  },
  {
   "cell_type": "code",
   "execution_count": 36,
   "metadata": {},
   "outputs": [
    {
     "name": "stderr",
     "output_type": "stream",
     "text": [
      "C:\\Users\\jorge\\AppData\\Local\\Temp\\ipykernel_31244\\8415035.py:7: UserWarning: \n",
      "\n",
      "`distplot` is a deprecated function and will be removed in seaborn v0.14.0.\n",
      "\n",
      "Please adapt your code to use either `displot` (a figure-level function with\n",
      "similar flexibility) or `histplot` (an axes-level function for histograms).\n",
      "\n",
      "For a guide to updating your code to use the new functions, please see\n",
      "https://gist.github.com/mwaskom/de44147ed2974457ad6372750bbe5751\n",
      "\n",
      "  sns.distplot(percentage_error, bins=50, kde=True, color='k')\n"
     ]
    },
    {
     "data": {
      "text/plain": [
       "Text(0, 0.5, 'Frequency')"
      ]
     },
     "execution_count": 36,
     "metadata": {},
     "output_type": "execute_result"
    },
    {
     "data": {
      "image/png": "[encoded data removed]",
      "text/plain": [
       "<Figure size 1000x800 with 1 Axes>"
      ]
     },
     "metadata": {},
     "output_type": "display_data"
    }
   ],
   "source": [
    "# filter values greater than 300%\n",
    "percentage_error = percentage_error[percentage_error < 150]\n",
    "\n",
    "# plot the distribution of the percentage error\n",
    "plt.figure(figsize=(10,8))\n",
    "\n",
    "sns.distplot(percentage_error, bins=50, kde=True, color='k')\n",
    "\n",
    "plt.title('Distribution of Percentage Error', fontsize=20)\n",
    "plt.xlabel('Percentage Error', fontsize=16)\n",
    "plt.ylabel('Frequency', fontsize=16)"
   ]
  },
  {
   "cell_type": "code",
   "execution_count": 37,
   "metadata": {},
   "outputs": [
    {
     "name": "stdout",
     "output_type": "stream",
     "text": [
      "mean_percentage_error: 1.9847635728189554\n",
      "std_percentage_error: 30.35733286395919\n"
     ]
    }
   ],
   "source": [
    "# get the mean and standard deviation of the percentage error\n",
    "mean_percentage_error = np.mean(percentage_error)\n",
    "std_percentage_error = np.std(percentage_error)\n",
    "\n",
    "print('mean_percentage_error:', mean_percentage_error)\n",
    "print('std_percentage_error:', std_percentage_error)"
   ]
  }
 ],
 "metadata": {
  "kernelspec": {
   "display_name": "Python 3",
   "language": "python",
   "name": "python3"
  },
  "language_info": {
   "codemirror_mode": {
    "name": "ipython",
    "version": 3
   },
   "file_extension": ".py",
   "mimetype": "text/x-python",
   "name": "python",
   "nbconvert_exporter": "python",
   "pygments_lexer": "ipython3",
   "version": "3.11.5"
  }
 },
 "nbformat": 4,
 "nbformat_minor": 2
}
